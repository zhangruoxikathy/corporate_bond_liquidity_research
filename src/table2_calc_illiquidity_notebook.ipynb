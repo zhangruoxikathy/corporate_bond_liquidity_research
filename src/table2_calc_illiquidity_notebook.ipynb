{
 "cells": [
  {
   "cell_type": "markdown",
   "metadata": {},
   "source": [
    "# Table 2 Measure of Illiquidity\n",
    "\n",
    "This notebook walks through illiquidity calculations based on methodology in The Illiquidity of Corporate Bonds, Bao, Pan, and Wang (2010). In the paper, calculations are based on corporate bond data from 2003-04-14 to 2009-06-30.\n",
    "\n",
    "  - In order to avoid re-running the notebook every time it changes (it changes often, even by the act of opening it) and to only rerun it if meaningful changes have been made, the build system only looks for changes in the plaintext version of the notebook. That is, the notebook is converted to a Python script via [nbconvert](https://nbconvert.readthedocs.io/en/latest/), which is often packaged with Jupyter.\n",
    "  Then, DoIt looks for changes to the Python version. If it detects a difference, then the notebook is re-run. (Note, that you could also convert to a Markdown file with \n",
    "  [JupyText](https://github.com/mwouts/jupytext). However, this package is often not packaged with Jupyter.)\n",
    "  - Since we want to use Jupyter Notebooks for exploratory reports, we want to keep fully-computed versions of the notebook (with the output intact). However, earlier I said that I strip the notebook of its output before committing to version control. Well, to keep the output, every time PyDoit runs the notebook, it outputs an HTML version of the freshly run notebook and saves that HTML report in the `output` directory. That way, you will be able to view the finished report at any time without having to open Jupyter."
   ]
  },
  {
   "cell_type": "markdown",
   "metadata": {},
   "source": [
    "### <font color='purple'>Overview of Outputs\n",
    "\n",
    "#### * Table 2 Measure of Illiquidity:\n",
    "- ##### Panel A Individual Bonds (The mean and average monthly illiquidity per bond per year)\n",
    "    - Using trade-by-trade data\n",
    "    - Using daily data\n",
    "- ##### Panel B Bond Portfolio\n",
    "    - Equal-weighted: Consider a daily portfolio composed of all bonds, with equally weighted bond returns used to calculate annual illiquidity\n",
    "    - Issuance-weighted: Consider a daily portfolio composed of all bonds, with issuance weighted bond returns used to calculate annual illiquidity\n",
    "- ##### Panel C Implied by quoted bid-ask spread\n",
    "    - Mean and median monthly bond bid-ask spread per year\n",
    "\n",
    "#### * Summary Statistics of Monthly Per Bond Illiquidity Using Daily Data\n",
    "#### * Panel A and Summary Statistics Using MMN corrected data\n",
    "#### * Replicate the Tables in the Paper (2003-04-14 to 2009-06-30) \n",
    "#### * Update the Tables to the present (2003-04-14 to present)\n",
    "#### "
   ]
  },
  {
   "cell_type": "code",
   "execution_count": null,
   "metadata": {},
   "outputs": [],
   "source": [
    "from IPython.display import Image\n",
    "Image(\"../assets/table2_screenshot.jpg\")"
   ]
  },
  {
   "cell_type": "code",
   "execution_count": null,
   "metadata": {},
   "outputs": [],
   "source": [
    "import config\n",
    "\n",
    "OUTPUT_DIR = config.OUTPUT_DIR\n",
    "DATA_DIR = config.DATA_DIR"
   ]
  },
  {
   "cell_type": "code",
   "execution_count": null,
   "metadata": {},
   "outputs": [],
   "source": [
    "import pandas as pd\n",
    "from tqdm import tqdm\n",
    "import numpy as np\n",
    "import matplotlib.pyplot as plt\n",
    "import seaborn as sns\n",
    "from datetime import datetime\n",
    "from scipy import stats\n",
    "from pandas.tseries.holiday import USFederalHolidayCalendar\n",
    "from pandas.tseries.offsets import CustomBusinessDay\n",
    "from statsmodels.stats.stattools import durbin_watson\n",
    "from statsmodels.regression.linear_model import OLS\n",
    "from statsmodels.stats.sandwich_covariance import cov_hac\n",
    "from statsmodels.tools.tools import add_constant\n",
    "import config\n",
    "\n",
    "import warnings\n",
    "warnings.filterwarnings('ignore')"
   ]
  },
  {
   "cell_type": "code",
   "execution_count": null,
   "metadata": {},
   "outputs": [],
   "source": [
    "import misc_tools\n",
    "import load_wrds_bondret\n",
    "import load_opensource\n",
    "import data_processing as data\n",
    "import table2_calc_illiquidity as calc_illiquidity\n",
    "import table2_plot_illiquidity as plot"
   ]
  },
  {
   "cell_type": "code",
   "execution_count": null,
   "metadata": {},
   "outputs": [],
   "source": [
    "# Define time frames used in the paper and the updated time stamp\n",
    "today = datetime.today().strftime('%Y-%m-%d')\n",
    "start_date = '2003-04-14'\n",
    "end_date = '2009-06-30' "
   ]
  },
  {
   "cell_type": "markdown",
   "metadata": {},
   "source": [
    "# Step 1: Clean Merged Data for Daily Illiquidity Calculation\n",
    "\n",
    "Before calculating illiquidity measures, it's essential to ensure that our corporate bond data is accurate and relevant. The `clean_merged_data` function takes care of preparing the pre-cleaned merged monthly and daily data by performing several critical cleaning steps:\n",
    "\n",
    "- Loads and merges the relevant datasets within the specified date range.\n",
    "- Removes any records with missing crucial price information and sorts the data chronologically.\n",
    "- Adjusts for trade execution dates by incorporating a time lag to identify consecutive trades for the same bond, and filters out those that do not fall within a one-week window, accounting for holidays.\n",
    "- Consolidates the cleaned data, readying it for the subsequent illiquidity analysis.\n",
    "\n",
    "This step is crucial to ensure that the subsequent calculations are based on a dataset that reflects true trading activity without distortions from missing data or trades too far apart in time.\n"
   ]
  },
  {
   "cell_type": "code",
   "execution_count": null,
   "metadata": {},
   "outputs": [],
   "source": [
    "cleaned_df_paper = calc_illiquidity.clean_merged_data(start_date, end_date)\n",
    "cleaned_df_paper.head()"
   ]
  },
  {
   "cell_type": "code",
   "execution_count": null,
   "metadata": {},
   "outputs": [],
   "source": [
    "cleaned_df_new = calc_illiquidity.clean_merged_data(start_date, today)\n",
    "cleaned_df_new.head()"
   ]
  },
  {
   "cell_type": "markdown",
   "metadata": {},
   "source": [
    "# Step 2: Calculate Price Changes and Perform Additional Cleaning\n",
    "\n",
    "In this part of the analysis pipeline, we use the `calc_deltaprc` function to compute daily price changes for corporate bonds, designed to operate on cleaned and merged daily corporate bond trade data.\n",
    "\n",
    "This calculation is based on the Measure of Illiquidity on page 10 and 11 of the peper: $ \\gamma = -\\text{Cov}(p_t - p_{t-1}, p_{t+1} - p_t) $. The process involves several steps:\n",
    "- Calculation of Log Prices: Transform cleaned prices to log prices for more stable numerical properties.\n",
    "- Lagged and Lead Price Changes: Determine the price changes by computing lagged and lead log prices.\n",
    "- Restricting Returns: Ensure that calculated price changes (returns) are within the range of -100% to 100%.\n",
    "- Conversion to Percentage: Change the representation of price changes from decimal to percentage for clarity.\n",
    "- Cleaning Data: Remove entries with incomplete information to maintain the quality of the dataset.\n",
    "- Filtering by Trade Count: Exclude bonds with fewer than 10 trade observations to focus on more reliable data.\n",
    "\n",
    "This function is essential for preparing the bond price data for accurate calculation of financial metrics such as illiquidity.\n"
   ]
  },
  {
   "cell_type": "code",
   "execution_count": null,
   "metadata": {},
   "outputs": [],
   "source": [
    "df_paper = calc_illiquidity.calc_deltaprc(cleaned_df_paper)\n",
    "df_paper.head()"
   ]
  },
  {
   "cell_type": "code",
   "execution_count": null,
   "metadata": {},
   "outputs": [],
   "source": [
    "df_new = calc_illiquidity.calc_deltaprc(cleaned_df_new)\n",
    "df_new.head()"
   ]
  },
  {
   "cell_type": "markdown",
   "metadata": {},
   "source": [
    "# Step 3: Panel A Individual Bond: Illiquidity Metrics Calculation Using Daily Bond Data\n",
    "\n",
    "This step involves using the `calc_annual_illiquidity_table_daily` function to calculate and summarize annual illiquidity metrics for corporate bonds. The function takes daily bond data as input and computes several statistics that capture the illiquidity of bonds on an annual basis. `create_annual_illiquidity_table` function is used as the last step in `calc_annual_illiquidity_table_daily` to generate illiquidity table with significance percentage, robust t-stat, mean and median. \n",
    "\n",
    "- Computes the illiquidity for each bond by month by taking the negative of the covariance between daily price changes (`deltap`) and their lagged values (`deltap_lag`).\n",
    "\n",
    "- Aggregated the monthly illiquidity measures to obtain annual statistics, including mean and median illiquidity.\n",
    "\n",
    "- Calculates t-statistics for the mean illiquidity of each bond and year and determines the percentage of these t-stats that are significant (>= 1.96).\n",
    "\n",
    "- Calculates robust t-stats are calculated using OLS with HAC (heteroskedasticity and autocorrelation consistent) standard errors.\n",
    "\n",
    "- Calculate overall statistics across the full sample period.\n",
    "\n",
    "- Compiles all these metrics into a table that presents the mean and median illiquidity, the percentage of significant t-statistics, and robust t-statistics for each year, as well as for the full sample period.\n",
    "\n",
    "This comprehensive illiquidity metric calculation allows us to understand the annual and overall liquidity characteristics of the corporate bond market."
   ]
  },
  {
   "cell_type": "code",
   "execution_count": null,
   "metadata": {},
   "outputs": [],
   "source": [
    "illiq_daily_paper, table2_daily_paper = calc_illiquidity.calc_annual_illiquidity_table_daily(df_paper)\n",
    "table2_daily_paper"
   ]
  },
  {
   "cell_type": "code",
   "execution_count": null,
   "metadata": {},
   "outputs": [],
   "source": [
    "illiq_daily_new, table2_daily_new = calc_illiquidity.calc_annual_illiquidity_table_daily(df_new)\n",
    "table2_daily_new"
   ]
  },
  {
   "cell_type": "markdown",
   "metadata": {},
   "source": [
    "# Step 4: Summary Statistics Compilation Using Daily Illiquidity Data\n",
    "\n",
    "This step entails utilizing the `create_summary_stats` function to compile key summary statistics that characterize daily illiquidity data for corporate bonds over different years--min, mean, median, max, 25%, 75% std monthly illiquidity per cusip and mean t-stat. This aids in understanding the distribution and central tendencies of bond illiquidity and t-statistics on an annual basis."
   ]
  },
  {
   "cell_type": "code",
   "execution_count": null,
   "metadata": {},
   "outputs": [],
   "source": [
    "illiq_daily_summary_paper = calc_illiquidity.create_summary_stats(illiq_daily_paper)\n",
    "illiq_daily_summary_paper"
   ]
  },
  {
   "cell_type": "code",
   "execution_count": null,
   "metadata": {},
   "outputs": [],
   "source": [
    "illiq_daily_paper[illiq_daily_paper['illiq'] > 2000]"
   ]
  },
  {
   "cell_type": "code",
   "execution_count": null,
   "metadata": {},
   "outputs": [],
   "source": [
    "illiq_daily_summary_new = calc_illiquidity.create_summary_stats(illiq_daily_new)\n",
    "illiq_daily_summary_new"
   ]
  },
  {
   "cell_type": "markdown",
   "metadata": {},
   "source": [
    "# Step 5: Panel A Using MMN Corrected Daily Bond Data\n",
    "\n",
    "Now, we apply similar calculation in Step 3 and 4 using MMN corrected daily bond data. Since the MMN corrected daily bond data contains illiquidty directly, `calc_illiq_w_mmn_corrected` performs cleaning on MMN corrected data and apply `create_annual_illiquidity_table` to generate the similar Panel A (daily data) illiquidity final table, ready for comparison. We then use the in Step 4 to produce summary stats using cleaned MMN corrected daily bond data."
   ]
  },
  {
   "cell_type": "code",
   "execution_count": null,
   "metadata": {},
   "outputs": [],
   "source": [
    "mmn_paper, table2_daily_mmn_paper = calc_illiquidity.calc_illiq_w_mmn_corrected(\n",
    "    start_date, end_date, cleaned_df_paper)\n",
    "table2_daily_mmn_paper"
   ]
  },
  {
   "cell_type": "code",
   "execution_count": null,
   "metadata": {},
   "outputs": [],
   "source": [
    "illiq_daily_summary_mmn_paper = calc_illiquidity.create_summary_stats(mmn_paper)\n",
    "illiq_daily_summary_mmn_paper"
   ]
  },
  {
   "cell_type": "code",
   "execution_count": null,
   "metadata": {},
   "outputs": [],
   "source": [
    "mmn_paper.head()"
   ]
  },
  {
   "cell_type": "code",
   "execution_count": null,
   "metadata": {},
   "outputs": [],
   "source": [
    "mmn_new, table2_daily_mmn_new = calc_illiquidity.calc_illiq_w_mmn_corrected(\n",
    "    start_date, today, cleaned_df_new)\n",
    "table2_daily_mmn_new"
   ]
  },
  {
   "cell_type": "code",
   "execution_count": null,
   "metadata": {},
   "outputs": [],
   "source": [
    "illiq_daily_summary_mmn_new = calc_illiquidity.create_summary_stats(mmn_new)\n",
    "illiq_daily_summary_mmn_new"
   ]
  },
  {
   "cell_type": "markdown",
   "metadata": {},
   "source": [
    "# Step 6: Panel B Bond Portfolios: Portfolio-Based Annual Illiquidity Metrics Calculation\n",
    "\n",
    "The `calc_annual_illiquidity_table_portfolio` function computes the illiquidity metrics for corporate bonds by constructing equal-weighted and issuance-weighted portfolio returns on a daily basis and then calculate portfolio illiquidity on an annual basis. The function systematically processes transaction-level bond data to assess market liquidity through portfolio aggregation, offering a more holistic view of the market dynamics. \n",
    "\n",
    "- Equal-Weighted Portfolio Calculation: Creat an equal-weighted portfolio for each trading day by averaging the daily price changes (deltap) and their lagged values (deltap_lag). It then groups these daily averages by year to calculate the negative covariance between the deltap and deltap_lag to derive the illiquidity measure for each year. Additionally, a t-statistic for the mean illiquidity of the equal-weighted portfolio is computed.\n",
    "\n",
    "- Issuance-Weighted Portfolio Calculation: Each bond is calculated with its $ \\text{issuance} = \\text{offering amount} \\times \\text{principal amount} \\times \\text{offering price} / 100 / 1,000,000 $ , and all bonds deltap and deltap_lag are aggregated on a daily basis weighted by issurance. The following steps are similar to Equal-Weighted Portfolio Calculation.\n",
    "\n",
    "- Calculate overall statistics across the full sample period.\n",
    "\n",
    "- Compiles all these metrics into a table that presents the mean equal_weighted portfolio and t-stat, mean issuance-weighted portfolio illiquidity and t-stat for each year, as well as for the full sample period."
   ]
  },
  {
   "cell_type": "code",
   "execution_count": null,
   "metadata": {},
   "outputs": [],
   "source": [
    "table2_port_paper = calc_illiquidity.calc_annual_illiquidity_table_portfolio(df_paper)\n",
    "table2_port_paper"
   ]
  },
  {
   "cell_type": "code",
   "execution_count": null,
   "metadata": {},
   "outputs": [],
   "source": [
    "table2_port_new = calc_illiquidity.calc_annual_illiquidity_table_portfolio(df_new)\n",
    "table2_port_new"
   ]
  },
  {
   "cell_type": "markdown",
   "metadata": {},
   "source": [
    "# Step 7: Panel C Implied by Quoted Bid-Ask Spreads: Annual Implied Illiquidity Using Monthly Quoted Bid-Ask Spread\n",
    "\n",
    "In this section, we focus on analyzing the illiquidity implied by quoted bid-ask spreads of corporate bonds on an annual basis using `calc_annual_illiquidity_table_spd`. \n",
    "\n",
    "\n",
    "- For each year, calculates the mean and median of the monthly `t_spread`, which represent the implied gamma. \n",
    "\n",
    "- Calculate overall statistics across the full sample period.\n",
    "\n",
    "- Compiles all these metrics into a table that presents the mean and median implied illiquidity for each year, as well as for the full sample period.\n",
    "\n",
    "By computing these statistics, the function provides insights into the liquidity of the corporate bond market as implied by the bid-ask spreads over time. As shown in the paper, not only does the quoted bid-ask spread fail to capture the overall level of illiquidity, but it also fails to explain the cross-sectional variation in bond illiquidity and its asset pricing implications."
   ]
  },
  {
   "cell_type": "code",
   "execution_count": null,
   "metadata": {},
   "outputs": [],
   "source": [
    "def calc_annual_illiquidity_table_spd(df):\n",
    "    \"\"\"Calculate mean and median gamma implied by quoted bid-ask spreads by year.\n",
    "    \"\"\"\n",
    "    df_unique = df.groupby(['cusip', 'month_year'])['t_spread'].first().reset_index()\n",
    "    df_unique['year'] = df_unique['month_year'].dt.year  \n",
    "    df_unique = df_unique.sort_values(by='month_year')\n",
    "\n",
    "    Illiq_mean_table = df_unique.groupby('year')['t_spread'].mean()\n",
    "    overall_illiq_mean = df_unique['t_spread'].mean()\n",
    "    overall_illiq_median = df_unique['t_spread'].median()\n",
    "    \n",
    "    table2_spd = pd.DataFrame({\n",
    "        'Year': Illiq_mean_table.index,\n",
    "        'Mean implied gamma': df_unique.groupby('year')['t_spread'].mean(),\n",
    "        'Median implied gamma': df_unique.groupby('year')['t_spread'].median(),\n",
    "    }).reset_index(drop=True)\n",
    "    \n",
    "    overall_data = pd.DataFrame({\n",
    "        'Year': ['Full'],\n",
    "        'Mean implied gamma': [overall_illiq_mean], \n",
    "        'Median implied gamma': [overall_illiq_median]\n",
    "    })\n",
    "    \n",
    "    table2_spd = pd.concat([table2_spd, overall_data], ignore_index=True)\n",
    "    \n",
    "    return table2_spd"
   ]
  },
  {
   "cell_type": "code",
   "execution_count": null,
   "metadata": {},
   "outputs": [],
   "source": [
    "table2_spd_paper = calc_illiquidity.calc_annual_illiquidity_table_spd(df_paper) \n",
    "table2_spd_paper"
   ]
  },
  {
   "cell_type": "code",
   "execution_count": null,
   "metadata": {},
   "outputs": [],
   "source": [
    "table2_spd_new = calc_illiquidity.calc_annual_illiquidity_table_spd(df_new) \n",
    "table2_spd_new"
   ]
  },
  {
   "cell_type": "markdown",
   "metadata": {},
   "source": [
    "# Step 8: Monthly Illiquidity Per Bond and Average Illiquidity By Year\n",
    "\n",
    "The `plot_illiquidity` function visualizes both monthly bond illquidity observations and annual trends. \n",
    "\n",
    "- Monthly Illiquidity Per Bond: This granular data paves the way for an in-depth examination of liquidity at the bond level, month by month, in scatter.\n",
    "\n",
    "- Annual Illiquidity Summary Insights: Visualize Table 2 Panel 1 mean and median illiquidity using daily data, shown as the lines on the plot. Red line indicates the mean, purple line the median. Mean is much higher than median around ~2008-2009, suggesting high illquidity outliers.\n",
    "\n",
    "- The Zoomed-In Analysis: Acknowledging the potential distortion by extreme values, the function prudently narrows down the focus in the second subplot. By honing in on a more typical range of illiquidity values, it effectively filters out the outliers, thereby furnishing a clearer, more focused analysis of the prevalent liquidity patterns.\n",
    "\n",
    "We have used both original data and MMN corrected data to generate seperate plots."
   ]
  },
  {
   "cell_type": "code",
   "execution_count": null,
   "metadata": {},
   "outputs": [],
   "source": [
    "# Plot using original data, 2003-2009\n",
    "plot.plot_illiquidity(illiq_daily_paper, illiq_daily_summary_paper, \"2003-2009\")"
   ]
  },
  {
   "cell_type": "code",
   "execution_count": null,
   "metadata": {},
   "outputs": [],
   "source": [
    "# Plot using original data, 2003-2023\n",
    "plot.plot_illiquidity(illiq_daily_new, illiq_daily_summary_new, \"2003-2023\")"
   ]
  },
  {
   "cell_type": "code",
   "execution_count": 1,
   "metadata": {},
   "outputs": [
    {
     "ename": "NameError",
     "evalue": "name 'plot' is not defined",
     "output_type": "error",
     "traceback": [
      "\u001b[1;31m---------------------------------------------------------------------------\u001b[0m",
      "\u001b[1;31mNameError\u001b[0m                                 Traceback (most recent call last)",
      "Cell \u001b[1;32mIn[1], line 2\u001b[0m\n\u001b[0;32m      1\u001b[0m \u001b[38;5;66;03m# Plot using MMN corrected data, 2003-2009\u001b[39;00m\n\u001b[1;32m----> 2\u001b[0m \u001b[43mplot\u001b[49m\u001b[38;5;241m.\u001b[39mplot_illiquidity(mmn_paper, illiq_daily_summary_mmn_paper, \u001b[38;5;124m\"\u001b[39m\u001b[38;5;124mMMN_Corrected, 2003-2009\u001b[39m\u001b[38;5;124m\"\u001b[39m)\n",
      "\u001b[1;31mNameError\u001b[0m: name 'plot' is not defined"
     ]
    }
   ],
   "source": [
    "# Plot using MMN corrected data, 2003-2009\n",
    "plot.plot_illiquidity(mmn_paper, illiq_daily_summary_mmn_paper, \"MMN_Corrected, 2003-2009\")"
   ]
  },
  {
   "cell_type": "code",
   "execution_count": null,
   "metadata": {},
   "outputs": [],
   "source": [
    "# Plot using MMN corrected data, 2003-2023\n",
    "plot.plot_illiquidity(mmn_new, illiq_daily_summary_mmn_new, \"MMN_Corrected, 2003-2023\")"
   ]
  }
 ],
 "metadata": {
  "kernelspec": {
   "display_name": "Python 3 (ipykernel)",
   "language": "python",
   "name": "python3"
  },
  "language_info": {
   "codemirror_mode": {
    "name": "ipython",
    "version": 3
   },
   "file_extension": ".py",
   "mimetype": "text/x-python",
   "name": "python",
   "nbconvert_exporter": "python",
   "pygments_lexer": "ipython3",
   "version": "3.9.10"
  }
 },
 "nbformat": 4,
 "nbformat_minor": 4
}
