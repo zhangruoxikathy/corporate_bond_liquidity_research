{
 "cells": [
  {
   "cell_type": "markdown",
   "id": "b745600806c81e3e",
   "metadata": {
    "collapsed": false
   },
   "source": [
    "# Illiquidity Calculation - Trade-by-Trade\n",
    "\n",
    "  - This notebook walks through illiquidity calculations based on methodology in The Illiquidity of Corporate Bonds, Bao, Pan, and Wang (2010).\n",
    "\n",
    "  - In order to avoid re-running the notebook every time it changes (it changes often, even by the act of opening it) and to only rerun it if meaningful changes have been made, the build system only looks for changes in the plaintext version of the notebook. That is, the notebook is converted to a Python script via [nbconvert](https://nbconvert.readthedocs.io/en/latest/), which is often packaged with Jupyter.\n",
    "  Then, DoIt looks for changes to the Python version. If it detects a difference, then the notebook is re-run. (Note, that you could also convert to a Markdown file with \n",
    "  [JupyText](https://github.com/mwouts/jupytext). However, this package is often not packaged with Jupyter.)\n",
    "  - Since we want to use Jupyter Notebooks for exploratory reports, we want to keep fully-computed versions of the notebook (with the output intact). However, earlier I said that I strip the notebook of its output before committing to version control. Well, to keep the output, every time PyDoit runs the notebook, it outputs an HTML version of the freshly run notebook and saves that HTML report in the `output` directory. That way, you will be able to view the finished report at any time without having to open Jupyter."
   ]
  },
  {
   "cell_type": "code",
   "execution_count": 1,
   "id": "initial_id",
   "metadata": {},
   "outputs": [],
   "source": [
    "import warnings\n",
    "warnings.filterwarnings(\"ignore\")\n",
    "\n",
    "import config\n",
    "\n",
    "OUTPUT_DIR = config.OUTPUT_DIR\n",
    "DATA_DIR = config.DATA_DIR"
   ]
  },
  {
   "cell_type": "code",
   "execution_count": 2,
   "id": "b114d1ca12385b86",
   "metadata": {},
   "outputs": [],
   "source": [
    "import table2_calc_illiquidity"
   ]
  },
  {
   "cell_type": "markdown",
   "id": "5f709a43cf3fb86",
   "metadata": {
    "collapsed": false
   },
   "source": [
    "# Step 1: Clean Merged Data for Intraday Illiquidity Calculation\n",
    "\n",
    "Before calculating illiquidity measures, it's essential to ensure that our corporate bond data is accurate and relevant. The `clean_intraday` function takes care of preparing the intraday data by performing several critical cleaning steps:\n",
    "\n",
    "- Merges trade data and trade time to timestamp\n",
    "- Runs Dickerson filters to remove trades that the per-filtering steps missed\n"
   ]
  },
  {
   "cell_type": "code",
   "execution_count": 3,
   "id": "56516cf1ce2dfd3a",
   "metadata": {},
   "outputs": [
    {
     "data": {
      "text/html": [
       "<div>\n",
       "<style scoped>\n",
       "    .dataframe tbody tr th:only-of-type {\n",
       "        vertical-align: middle;\n",
       "    }\n",
       "\n",
       "    .dataframe tbody tr th {\n",
       "        vertical-align: top;\n",
       "    }\n",
       "\n",
       "    .dataframe thead th {\n",
       "        text-align: right;\n",
       "    }\n",
       "</style>\n",
       "<table border=\"1\" class=\"dataframe\">\n",
       "  <thead>\n",
       "    <tr style=\"text-align: right;\">\n",
       "      <th></th>\n",
       "      <th>cusip</th>\n",
       "      <th>trd_exctn_dt</th>\n",
       "      <th>trd_exctn_tm</th>\n",
       "      <th>days_to_sttl_ct</th>\n",
       "      <th>lckd_in_ind</th>\n",
       "      <th>wis_fl</th>\n",
       "      <th>msg_seq_nb</th>\n",
       "      <th>entrd_vol_qt</th>\n",
       "      <th>prclean</th>\n",
       "      <th>orig_msg_seq_nb</th>\n",
       "      <th>trd_tmstamp</th>\n",
       "      <th>month_year</th>\n",
       "    </tr>\n",
       "  </thead>\n",
       "  <tbody>\n",
       "    <tr>\n",
       "      <th>4187316</th>\n",
       "      <td>001546AE0</td>\n",
       "      <td>2003-04-14</td>\n",
       "      <td>12:05:33</td>\n",
       "      <td>000</td>\n",
       "      <td>None</td>\n",
       "      <td>N</td>\n",
       "      <td>0010675</td>\n",
       "      <td>5000000.0</td>\n",
       "      <td>94.3750</td>\n",
       "      <td>None</td>\n",
       "      <td>2003-04-14 12:05:33</td>\n",
       "      <td>2003-04</td>\n",
       "    </tr>\n",
       "    <tr>\n",
       "      <th>4187317</th>\n",
       "      <td>001546AE0</td>\n",
       "      <td>2003-04-14</td>\n",
       "      <td>13:00:16</td>\n",
       "      <td>000</td>\n",
       "      <td>None</td>\n",
       "      <td>N</td>\n",
       "      <td>0014878</td>\n",
       "      <td>1000000.0</td>\n",
       "      <td>93.6250</td>\n",
       "      <td>None</td>\n",
       "      <td>2003-04-14 13:00:16</td>\n",
       "      <td>2003-04</td>\n",
       "    </tr>\n",
       "    <tr>\n",
       "      <th>4187318</th>\n",
       "      <td>001546AE0</td>\n",
       "      <td>2003-04-14</td>\n",
       "      <td>13:00:44</td>\n",
       "      <td>000</td>\n",
       "      <td>None</td>\n",
       "      <td>N</td>\n",
       "      <td>0014891</td>\n",
       "      <td>1000000.0</td>\n",
       "      <td>93.9375</td>\n",
       "      <td>None</td>\n",
       "      <td>2003-04-14 13:00:44</td>\n",
       "      <td>2003-04</td>\n",
       "    </tr>\n",
       "    <tr>\n",
       "      <th>4187319</th>\n",
       "      <td>001546AE0</td>\n",
       "      <td>2003-04-14</td>\n",
       "      <td>13:07:28</td>\n",
       "      <td>000</td>\n",
       "      <td>None</td>\n",
       "      <td>N</td>\n",
       "      <td>0015340</td>\n",
       "      <td>2000000.0</td>\n",
       "      <td>93.5000</td>\n",
       "      <td>None</td>\n",
       "      <td>2003-04-14 13:07:28</td>\n",
       "      <td>2003-04</td>\n",
       "    </tr>\n",
       "    <tr>\n",
       "      <th>4187320</th>\n",
       "      <td>001546AE0</td>\n",
       "      <td>2003-04-14</td>\n",
       "      <td>13:07:52</td>\n",
       "      <td>000</td>\n",
       "      <td>None</td>\n",
       "      <td>N</td>\n",
       "      <td>0015352</td>\n",
       "      <td>1000000.0</td>\n",
       "      <td>94.0000</td>\n",
       "      <td>None</td>\n",
       "      <td>2003-04-14 13:07:52</td>\n",
       "      <td>2003-04</td>\n",
       "    </tr>\n",
       "  </tbody>\n",
       "</table>\n",
       "</div>"
      ],
      "text/plain": [
       "             cusip trd_exctn_dt trd_exctn_tm days_to_sttl_ct lckd_in_ind  \\\n",
       "4187316  001546AE0   2003-04-14     12:05:33             000        None   \n",
       "4187317  001546AE0   2003-04-14     13:00:16             000        None   \n",
       "4187318  001546AE0   2003-04-14     13:00:44             000        None   \n",
       "4187319  001546AE0   2003-04-14     13:07:28             000        None   \n",
       "4187320  001546AE0   2003-04-14     13:07:52             000        None   \n",
       "\n",
       "        wis_fl msg_seq_nb  entrd_vol_qt  prclean orig_msg_seq_nb  \\\n",
       "4187316      N    0010675     5000000.0  94.3750            None   \n",
       "4187317      N    0014878     1000000.0  93.6250            None   \n",
       "4187318      N    0014891     1000000.0  93.9375            None   \n",
       "4187319      N    0015340     2000000.0  93.5000            None   \n",
       "4187320      N    0015352     1000000.0  94.0000            None   \n",
       "\n",
       "                trd_tmstamp month_year  \n",
       "4187316 2003-04-14 12:05:33    2003-04  \n",
       "4187317 2003-04-14 13:00:16    2003-04  \n",
       "4187318 2003-04-14 13:00:44    2003-04  \n",
       "4187319 2003-04-14 13:07:28    2003-04  \n",
       "4187320 2003-04-14 13:07:52    2003-04  "
      ]
     },
     "execution_count": 3,
     "metadata": {},
     "output_type": "execute_result"
    }
   ],
   "source": [
    "df = table2_calc_illiquidity.clean_intraday('2003-04-14', '2009-06-30')\n",
    "df.head()"
   ]
  },
  {
   "cell_type": "markdown",
   "id": "7290c771dfe75cdc",
   "metadata": {
    "collapsed": false
   },
   "source": [
    "# Step 2: Calculate Price Changes and Perform Additional Cleaning\n",
    "\n",
    "In this part of the analysis pipeline, we use the `calc_deltaprc` function to compute intraday price changes for corporate bonds, designed to operate on cleaned trade-by-trade corporate bond trade data.\n",
    "\n",
    "This calculation is based on the Measure of Illiquidity on page 10 and 11 of the peper: $ \\gamma = -\\text{Cov}(p_t - p_{t-1}, p_{t+1} - p_t) $. The process involves several steps:\n",
    "- Calculation of Log Prices: Transform cleaned prices to log prices for more stable numerical properties.\n",
    "- Lagged and Lead Price Changes: Determine the price changes by computing lagged and lead log prices.\n",
    "- Restricting Returns: Ensure that calculated price changes (returns) are within the range of -100% to 100%.\n",
    "- Conversion to Percentage: Change the representation of price changes from decimal to percentage for clarity.\n",
    "- Cleaning Data: Remove entries with incomplete information to maintain the quality of the dataset.\n",
    "- Filtering by Trade Count: Exclude bonds with fewer than 10 trade observations to focus on more reliable data.\n",
    "\n",
    "This function is essential for preparing the bond price data for accurate calculation of financial metrics such as illiquidity."
   ]
  },
  {
   "cell_type": "code",
   "execution_count": 4,
   "id": "959313dad9428438",
   "metadata": {},
   "outputs": [
    {
     "data": {
      "text/html": [
       "<div>\n",
       "<style scoped>\n",
       "    .dataframe tbody tr th:only-of-type {\n",
       "        vertical-align: middle;\n",
       "    }\n",
       "\n",
       "    .dataframe tbody tr th {\n",
       "        vertical-align: top;\n",
       "    }\n",
       "\n",
       "    .dataframe thead th {\n",
       "        text-align: right;\n",
       "    }\n",
       "</style>\n",
       "<table border=\"1\" class=\"dataframe\">\n",
       "  <thead>\n",
       "    <tr style=\"text-align: right;\">\n",
       "      <th></th>\n",
       "      <th>cusip</th>\n",
       "      <th>trd_exctn_dt</th>\n",
       "      <th>trd_exctn_tm</th>\n",
       "      <th>days_to_sttl_ct</th>\n",
       "      <th>lckd_in_ind</th>\n",
       "      <th>wis_fl</th>\n",
       "      <th>msg_seq_nb</th>\n",
       "      <th>entrd_vol_qt</th>\n",
       "      <th>prclean</th>\n",
       "      <th>orig_msg_seq_nb</th>\n",
       "      <th>trd_tmstamp</th>\n",
       "      <th>month_year</th>\n",
       "      <th>logprc</th>\n",
       "      <th>logprc_lag</th>\n",
       "      <th>deltap</th>\n",
       "      <th>logprc_lead</th>\n",
       "      <th>deltap_lag</th>\n",
       "    </tr>\n",
       "  </thead>\n",
       "  <tbody>\n",
       "    <tr>\n",
       "      <th>4187317</th>\n",
       "      <td>001546AE0</td>\n",
       "      <td>2003-04-14</td>\n",
       "      <td>13:00:16</td>\n",
       "      <td>000</td>\n",
       "      <td>None</td>\n",
       "      <td>N</td>\n",
       "      <td>0014878</td>\n",
       "      <td>1000000.0</td>\n",
       "      <td>93.6250</td>\n",
       "      <td>None</td>\n",
       "      <td>2003-04-14 13:00:16</td>\n",
       "      <td>2003-04</td>\n",
       "      <td>4.539297</td>\n",
       "      <td>4.547276</td>\n",
       "      <td>-0.797877</td>\n",
       "      <td>4.542630</td>\n",
       "      <td>0.333223</td>\n",
       "    </tr>\n",
       "    <tr>\n",
       "      <th>4187318</th>\n",
       "      <td>001546AE0</td>\n",
       "      <td>2003-04-14</td>\n",
       "      <td>13:00:44</td>\n",
       "      <td>000</td>\n",
       "      <td>None</td>\n",
       "      <td>N</td>\n",
       "      <td>0014891</td>\n",
       "      <td>1000000.0</td>\n",
       "      <td>93.9375</td>\n",
       "      <td>None</td>\n",
       "      <td>2003-04-14 13:00:44</td>\n",
       "      <td>2003-04</td>\n",
       "      <td>4.542630</td>\n",
       "      <td>4.539297</td>\n",
       "      <td>0.333223</td>\n",
       "      <td>4.537961</td>\n",
       "      <td>-0.466823</td>\n",
       "    </tr>\n",
       "    <tr>\n",
       "      <th>4187319</th>\n",
       "      <td>001546AE0</td>\n",
       "      <td>2003-04-14</td>\n",
       "      <td>13:07:28</td>\n",
       "      <td>000</td>\n",
       "      <td>None</td>\n",
       "      <td>N</td>\n",
       "      <td>0015340</td>\n",
       "      <td>2000000.0</td>\n",
       "      <td>93.5000</td>\n",
       "      <td>None</td>\n",
       "      <td>2003-04-14 13:07:28</td>\n",
       "      <td>2003-04</td>\n",
       "      <td>4.537961</td>\n",
       "      <td>4.542630</td>\n",
       "      <td>-0.466823</td>\n",
       "      <td>4.543295</td>\n",
       "      <td>0.533335</td>\n",
       "    </tr>\n",
       "    <tr>\n",
       "      <th>4187320</th>\n",
       "      <td>001546AE0</td>\n",
       "      <td>2003-04-14</td>\n",
       "      <td>13:07:52</td>\n",
       "      <td>000</td>\n",
       "      <td>None</td>\n",
       "      <td>N</td>\n",
       "      <td>0015352</td>\n",
       "      <td>1000000.0</td>\n",
       "      <td>94.0000</td>\n",
       "      <td>None</td>\n",
       "      <td>2003-04-14 13:07:52</td>\n",
       "      <td>2003-04</td>\n",
       "      <td>4.543295</td>\n",
       "      <td>4.537961</td>\n",
       "      <td>0.533335</td>\n",
       "      <td>4.547276</td>\n",
       "      <td>0.398143</td>\n",
       "    </tr>\n",
       "    <tr>\n",
       "      <th>4187321</th>\n",
       "      <td>001546AE0</td>\n",
       "      <td>2003-04-14</td>\n",
       "      <td>13:10:53</td>\n",
       "      <td>000</td>\n",
       "      <td>None</td>\n",
       "      <td>N</td>\n",
       "      <td>0019051</td>\n",
       "      <td>1000000.0</td>\n",
       "      <td>94.3750</td>\n",
       "      <td>None</td>\n",
       "      <td>2003-04-14 13:10:53</td>\n",
       "      <td>2003-04</td>\n",
       "      <td>4.547276</td>\n",
       "      <td>4.543295</td>\n",
       "      <td>0.398143</td>\n",
       "      <td>4.546614</td>\n",
       "      <td>-0.066247</td>\n",
       "    </tr>\n",
       "  </tbody>\n",
       "</table>\n",
       "</div>"
      ],
      "text/plain": [
       "             cusip trd_exctn_dt trd_exctn_tm days_to_sttl_ct lckd_in_ind  \\\n",
       "4187317  001546AE0   2003-04-14     13:00:16             000        None   \n",
       "4187318  001546AE0   2003-04-14     13:00:44             000        None   \n",
       "4187319  001546AE0   2003-04-14     13:07:28             000        None   \n",
       "4187320  001546AE0   2003-04-14     13:07:52             000        None   \n",
       "4187321  001546AE0   2003-04-14     13:10:53             000        None   \n",
       "\n",
       "        wis_fl msg_seq_nb  entrd_vol_qt  prclean orig_msg_seq_nb  \\\n",
       "4187317      N    0014878     1000000.0  93.6250            None   \n",
       "4187318      N    0014891     1000000.0  93.9375            None   \n",
       "4187319      N    0015340     2000000.0  93.5000            None   \n",
       "4187320      N    0015352     1000000.0  94.0000            None   \n",
       "4187321      N    0019051     1000000.0  94.3750            None   \n",
       "\n",
       "                trd_tmstamp month_year    logprc  logprc_lag    deltap  \\\n",
       "4187317 2003-04-14 13:00:16    2003-04  4.539297    4.547276 -0.797877   \n",
       "4187318 2003-04-14 13:00:44    2003-04  4.542630    4.539297  0.333223   \n",
       "4187319 2003-04-14 13:07:28    2003-04  4.537961    4.542630 -0.466823   \n",
       "4187320 2003-04-14 13:07:52    2003-04  4.543295    4.537961  0.533335   \n",
       "4187321 2003-04-14 13:10:53    2003-04  4.547276    4.543295  0.398143   \n",
       "\n",
       "         logprc_lead  deltap_lag  \n",
       "4187317     4.542630    0.333223  \n",
       "4187318     4.537961   -0.466823  \n",
       "4187319     4.543295    0.533335  \n",
       "4187320     4.547276    0.398143  \n",
       "4187321     4.546614   -0.066247  "
      ]
     },
     "execution_count": 4,
     "metadata": {},
     "output_type": "execute_result"
    }
   ],
   "source": [
    "df = table2_calc_illiquidity.calc_deltaprc(df)\n",
    "df.head()"
   ]
  },
  {
   "cell_type": "markdown",
   "id": "c93c10bb994363ea",
   "metadata": {
    "collapsed": false
   },
   "source": [
    "# Step 3: Annual Illiquidity Metrics Calculation\n",
    "\n",
    "This step involves using the `calc_annual_illiquidity_table` function to calculate and summarize annual illiquidity metrics for corporate bonds. The function takes intraday bond data as input and computes several statistics that capture the illiquidity of bonds on an annual basis.\n",
    "\n",
    "- Computes the illiquidity for each bond and month by taking the negative of the covariance between intraday price changes (`deltap`) and their lagged values (`deltap_lag`).\n",
    "\n",
    "- Aggregated the monthly illiquidity measures to obtain annual statistics, including mean and median illiquidity.\n",
    "\n",
    "- Calculates t-statistics for the mean illiquidity of each bond and year and determines the percentage of these t-stats that are significant (>= 1.96).\n",
    "\n",
    "- Calculates robust t-stats are calculated using OLS with HAC (heteroskedasticity and autocorrelation consistent) standard errors.\n",
    "\n",
    "- Calculate overall statistics across the full sample period.\n",
    "\n",
    "- Compiles all these metrics into a table that presents the mean and median illiquidity, the percentage of significant t-statistics, and robust t-statistics for each year, as well as for the full sample period.\n",
    "\n",
    "This comprehensive illiquidity metric calculation allows us to understand the annual and overall liquidity characteristics of the corporate bond market."
   ]
  },
  {
   "cell_type": "code",
   "execution_count": 5,
   "id": "a944ba4fdc0443f4",
   "metadata": {},
   "outputs": [
    {
     "name": "stderr",
     "output_type": "stream",
     "text": [
      "\r",
      "  0%|          | 0/53737 [00:00<?, ?it/s]"
     ]
    },
    {
     "name": "stderr",
     "output_type": "stream",
     "text": [
      "\r",
      "  0%|          | 1/53737 [00:00<11:01:59,  1.35it/s]"
     ]
    },
    {
     "name": "stderr",
     "output_type": "stream",
     "text": [
      "\r",
      "  1%|          | 477/53737 [00:00<01:08, 772.08it/s]"
     ]
    },
    {
     "name": "stderr",
     "output_type": "stream",
     "text": [
      "\r",
      "  2%|▏         | 907/53737 [00:00<00:36, 1434.15it/s]"
     ]
    },
    {
     "name": "stderr",
     "output_type": "stream",
     "text": [
      "\r",
      "  3%|▎         | 1384/53737 [00:01<00:24, 2138.33it/s]"
     ]
    },
    {
     "name": "stderr",
     "output_type": "stream",
     "text": [
      "\r",
      "  3%|▎         | 1829/53737 [00:01<00:19, 2673.85it/s]"
     ]
    },
    {
     "name": "stderr",
     "output_type": "stream",
     "text": [
      "\r",
      "  5%|▍         | 2432/53737 [00:01<00:14, 3500.71it/s]"
     ]
    },
    {
     "name": "stderr",
     "output_type": "stream",
     "text": [
      "\r",
      "  6%|▌         | 2964/53737 [00:01<00:12, 3969.63it/s]"
     ]
    },
    {
     "name": "stderr",
     "output_type": "stream",
     "text": [
      "\r",
      "  6%|▋         | 3481/53737 [00:01<00:11, 4293.72it/s]"
     ]
    },
    {
     "name": "stderr",
     "output_type": "stream",
     "text": [
      "\r",
      "  8%|▊         | 4139/53737 [00:01<00:10, 4920.11it/s]"
     ]
    },
    {
     "name": "stderr",
     "output_type": "stream",
     "text": [
      "\r",
      "  9%|▉         | 4767/53737 [00:01<00:09, 5293.48it/s]"
     ]
    },
    {
     "name": "stderr",
     "output_type": "stream",
     "text": [
      "\r",
      " 10%|█         | 5406/53737 [00:01<00:08, 5605.82it/s]"
     ]
    },
    {
     "name": "stderr",
     "output_type": "stream",
     "text": [
      "\r",
      " 11%|█         | 6032/53737 [00:01<00:08, 5785.43it/s]"
     ]
    },
    {
     "name": "stderr",
     "output_type": "stream",
     "text": [
      "\r",
      " 12%|█▏        | 6633/53737 [00:01<00:08, 5425.95it/s]"
     ]
    },
    {
     "name": "stderr",
     "output_type": "stream",
     "text": [
      "\r",
      " 14%|█▎        | 7256/53737 [00:02<00:08, 5640.55it/s]"
     ]
    },
    {
     "name": "stderr",
     "output_type": "stream",
     "text": [
      "\r",
      " 15%|█▍        | 7868/53737 [00:02<00:07, 5764.12it/s]"
     ]
    },
    {
     "name": "stderr",
     "output_type": "stream",
     "text": [
      "\r",
      " 16%|█▌        | 8490/53737 [00:02<00:07, 5894.82it/s]"
     ]
    },
    {
     "name": "stderr",
     "output_type": "stream",
     "text": [
      "\r",
      " 17%|█▋        | 9115/53737 [00:02<00:07, 5996.58it/s]"
     ]
    },
    {
     "name": "stderr",
     "output_type": "stream",
     "text": [
      "\r",
      " 18%|█▊        | 9768/53737 [00:02<00:07, 6134.17it/s]"
     ]
    },
    {
     "name": "stderr",
     "output_type": "stream",
     "text": [
      "\r",
      " 19%|█▉        | 10417/53737 [00:02<00:06, 6221.28it/s]"
     ]
    },
    {
     "name": "stderr",
     "output_type": "stream",
     "text": [
      "\r",
      " 21%|██        | 11068/53737 [00:02<00:06, 6293.70it/s]"
     ]
    },
    {
     "name": "stderr",
     "output_type": "stream",
     "text": [
      "\r",
      " 22%|██▏       | 11708/53737 [00:02<00:06, 6309.97it/s]"
     ]
    },
    {
     "name": "stderr",
     "output_type": "stream",
     "text": [
      "\r",
      " 23%|██▎       | 12377/53737 [00:02<00:06, 6410.04it/s]"
     ]
    },
    {
     "name": "stderr",
     "output_type": "stream",
     "text": [
      "\r",
      " 24%|██▍       | 13020/53737 [00:02<00:06, 6375.35it/s]"
     ]
    },
    {
     "name": "stderr",
     "output_type": "stream",
     "text": [
      "\r",
      " 25%|██▌       | 13659/53737 [00:03<00:06, 6349.83it/s]"
     ]
    },
    {
     "name": "stderr",
     "output_type": "stream",
     "text": [
      "\r",
      " 27%|██▋       | 14295/53737 [00:03<00:06, 6345.59it/s]"
     ]
    },
    {
     "name": "stderr",
     "output_type": "stream",
     "text": [
      "\r",
      " 28%|██▊       | 14930/53737 [00:03<00:06, 6326.67it/s]"
     ]
    },
    {
     "name": "stderr",
     "output_type": "stream",
     "text": [
      "\r",
      " 29%|██▉       | 15576/53737 [00:03<00:06, 6355.00it/s]"
     ]
    },
    {
     "name": "stderr",
     "output_type": "stream",
     "text": [
      "\r",
      " 30%|███       | 16215/53737 [00:03<00:05, 6359.35it/s]"
     ]
    },
    {
     "name": "stderr",
     "output_type": "stream",
     "text": [
      "\r",
      " 31%|███▏      | 16852/53737 [00:03<00:05, 6340.10it/s]"
     ]
    },
    {
     "name": "stderr",
     "output_type": "stream",
     "text": [
      "\r",
      " 33%|███▎      | 17497/53737 [00:03<00:05, 6366.42it/s]"
     ]
    },
    {
     "name": "stderr",
     "output_type": "stream",
     "text": [
      "\r",
      " 34%|███▎      | 18134/53737 [00:03<00:05, 6215.54it/s]"
     ]
    },
    {
     "name": "stderr",
     "output_type": "stream",
     "text": [
      "\r",
      " 35%|███▍      | 18757/53737 [00:03<00:05, 5939.65it/s]"
     ]
    },
    {
     "name": "stderr",
     "output_type": "stream",
     "text": [
      "\r",
      " 36%|███▌      | 19355/53737 [00:04<00:05, 5938.79it/s]"
     ]
    },
    {
     "name": "stderr",
     "output_type": "stream",
     "text": [
      "\r",
      " 37%|███▋      | 19951/53737 [00:04<00:05, 5899.58it/s]"
     ]
    },
    {
     "name": "stderr",
     "output_type": "stream",
     "text": [
      "\r",
      " 38%|███▊      | 20543/53737 [00:04<00:05, 5777.75it/s]"
     ]
    },
    {
     "name": "stderr",
     "output_type": "stream",
     "text": [
      "\r",
      " 39%|███▉      | 21122/53737 [00:04<00:05, 5748.90it/s]"
     ]
    },
    {
     "name": "stderr",
     "output_type": "stream",
     "text": [
      "\r",
      " 40%|████      | 21702/53737 [00:04<00:05, 5762.48it/s]"
     ]
    },
    {
     "name": "stderr",
     "output_type": "stream",
     "text": [
      "\r",
      " 42%|████▏     | 22358/53737 [00:04<00:05, 5989.77it/s]"
     ]
    },
    {
     "name": "stderr",
     "output_type": "stream",
     "text": [
      "\r",
      " 43%|████▎     | 22983/53737 [00:04<00:05, 6063.74it/s]"
     ]
    },
    {
     "name": "stderr",
     "output_type": "stream",
     "text": [
      "\r",
      " 44%|████▍     | 23627/53737 [00:04<00:04, 6172.61it/s]"
     ]
    },
    {
     "name": "stderr",
     "output_type": "stream",
     "text": [
      "\r",
      " 45%|████▌     | 24250/53737 [00:04<00:04, 6185.20it/s]"
     ]
    },
    {
     "name": "stderr",
     "output_type": "stream",
     "text": [
      "\r",
      " 46%|████▋     | 24877/53737 [00:04<00:04, 6207.91it/s]"
     ]
    },
    {
     "name": "stderr",
     "output_type": "stream",
     "text": [
      "\r",
      " 47%|████▋     | 25499/53737 [00:05<00:04, 6200.59it/s]"
     ]
    },
    {
     "name": "stderr",
     "output_type": "stream",
     "text": [
      "\r",
      " 49%|████▊     | 26137/53737 [00:05<00:04, 6249.89it/s]"
     ]
    },
    {
     "name": "stderr",
     "output_type": "stream",
     "text": [
      "\r",
      " 50%|████▉     | 26787/53737 [00:05<00:04, 6307.69it/s]"
     ]
    },
    {
     "name": "stderr",
     "output_type": "stream",
     "text": [
      "\r",
      " 51%|█████     | 27418/53737 [00:05<00:04, 6281.70it/s]"
     ]
    },
    {
     "name": "stderr",
     "output_type": "stream",
     "text": [
      "\r",
      " 52%|█████▏    | 28049/53737 [00:05<00:04, 6282.16it/s]"
     ]
    },
    {
     "name": "stderr",
     "output_type": "stream",
     "text": [
      "\r",
      " 53%|█████▎    | 28688/53737 [00:05<00:03, 6297.40it/s]"
     ]
    },
    {
     "name": "stderr",
     "output_type": "stream",
     "text": [
      "\r",
      " 55%|█████▍    | 29319/53737 [00:05<00:03, 6296.76it/s]"
     ]
    },
    {
     "name": "stderr",
     "output_type": "stream",
     "text": [
      "\r",
      " 56%|█████▌    | 29949/53737 [00:05<00:03, 6271.00it/s]"
     ]
    },
    {
     "name": "stderr",
     "output_type": "stream",
     "text": [
      "\r",
      " 57%|█████▋    | 30591/53737 [00:05<00:03, 6307.37it/s]"
     ]
    },
    {
     "name": "stderr",
     "output_type": "stream",
     "text": [
      "\r",
      " 58%|█████▊    | 31222/53737 [00:05<00:03, 6304.93it/s]"
     ]
    },
    {
     "name": "stderr",
     "output_type": "stream",
     "text": [
      "\r",
      " 59%|█████▉    | 31853/53737 [00:06<00:03, 6123.21it/s]"
     ]
    },
    {
     "name": "stderr",
     "output_type": "stream",
     "text": [
      "\r",
      " 60%|██████    | 32467/53737 [00:06<00:03, 6125.08it/s]"
     ]
    },
    {
     "name": "stderr",
     "output_type": "stream",
     "text": [
      "\r",
      " 62%|██████▏   | 33116/53737 [00:06<00:03, 6225.88it/s]"
     ]
    },
    {
     "name": "stderr",
     "output_type": "stream",
     "text": [
      "\r",
      " 63%|██████▎   | 33740/53737 [00:06<00:03, 6118.41it/s]"
     ]
    },
    {
     "name": "stderr",
     "output_type": "stream",
     "text": [
      "\r",
      " 64%|██████▍   | 34394/53737 [00:06<00:03, 6239.55it/s]"
     ]
    },
    {
     "name": "stderr",
     "output_type": "stream",
     "text": [
      "\r",
      " 65%|██████▌   | 35019/53737 [00:06<00:03, 6162.99it/s]"
     ]
    },
    {
     "name": "stderr",
     "output_type": "stream",
     "text": [
      "\r",
      " 66%|██████▋   | 35636/53737 [00:06<00:03, 5929.98it/s]"
     ]
    },
    {
     "name": "stderr",
     "output_type": "stream",
     "text": [
      "\r",
      " 67%|██████▋   | 36266/53737 [00:06<00:02, 6035.74it/s]"
     ]
    },
    {
     "name": "stderr",
     "output_type": "stream",
     "text": [
      "\r",
      " 69%|██████▊   | 36909/53737 [00:06<00:02, 6149.48it/s]"
     ]
    },
    {
     "name": "stderr",
     "output_type": "stream",
     "text": [
      "\r",
      " 70%|██████▉   | 37555/53737 [00:06<00:02, 6227.88it/s]"
     ]
    },
    {
     "name": "stderr",
     "output_type": "stream",
     "text": [
      "\r",
      " 71%|███████   | 38203/53737 [00:07<00:02, 6287.53it/s]"
     ]
    },
    {
     "name": "stderr",
     "output_type": "stream",
     "text": [
      "\r",
      " 72%|███████▏  | 38865/53737 [00:07<00:02, 6368.01it/s]"
     ]
    },
    {
     "name": "stderr",
     "output_type": "stream",
     "text": [
      "\r",
      " 74%|███████▎  | 39503/53737 [00:07<00:02, 6291.09it/s]"
     ]
    },
    {
     "name": "stderr",
     "output_type": "stream",
     "text": [
      "\r",
      " 75%|███████▍  | 40141/53737 [00:07<00:02, 6303.85it/s]"
     ]
    },
    {
     "name": "stderr",
     "output_type": "stream",
     "text": [
      "\r",
      " 76%|███████▌  | 40772/53737 [00:07<00:02, 6275.05it/s]"
     ]
    },
    {
     "name": "stderr",
     "output_type": "stream",
     "text": [
      "\r",
      " 77%|███████▋  | 41400/53737 [00:07<00:01, 6271.07it/s]"
     ]
    },
    {
     "name": "stderr",
     "output_type": "stream",
     "text": [
      "\r",
      " 78%|███████▊  | 42043/53737 [00:07<00:01, 6318.28it/s]"
     ]
    },
    {
     "name": "stderr",
     "output_type": "stream",
     "text": [
      "\r",
      " 79%|███████▉  | 42697/53737 [00:07<00:01, 6382.83it/s]"
     ]
    },
    {
     "name": "stderr",
     "output_type": "stream",
     "text": [
      "\r",
      " 81%|████████  | 43345/53737 [00:07<00:01, 6401.86it/s]"
     ]
    },
    {
     "name": "stderr",
     "output_type": "stream",
     "text": [
      "\r",
      " 82%|████████▏ | 43986/53737 [00:07<00:01, 6333.53it/s]"
     ]
    },
    {
     "name": "stderr",
     "output_type": "stream",
     "text": [
      "\r",
      " 83%|████████▎ | 44623/53737 [00:08<00:01, 6336.80it/s]"
     ]
    },
    {
     "name": "stderr",
     "output_type": "stream",
     "text": [
      "\r",
      " 84%|████████▍ | 45279/53737 [00:08<00:01, 6390.89it/s]"
     ]
    },
    {
     "name": "stderr",
     "output_type": "stream",
     "text": [
      "\r",
      " 85%|████████▌ | 45934/53737 [00:08<00:01, 6424.97it/s]"
     ]
    },
    {
     "name": "stderr",
     "output_type": "stream",
     "text": [
      "\r",
      " 87%|████████▋ | 46577/53737 [00:08<00:01, 6419.98it/s]"
     ]
    },
    {
     "name": "stderr",
     "output_type": "stream",
     "text": [
      "\r",
      " 88%|████████▊ | 47227/53737 [00:08<00:01, 6427.75it/s]"
     ]
    },
    {
     "name": "stderr",
     "output_type": "stream",
     "text": [
      "\r",
      " 89%|████████▉ | 47890/53737 [00:08<00:00, 6472.59it/s]"
     ]
    },
    {
     "name": "stderr",
     "output_type": "stream",
     "text": [
      "\r",
      " 90%|█████████ | 48539/53737 [00:08<00:00, 6466.00it/s]"
     ]
    },
    {
     "name": "stderr",
     "output_type": "stream",
     "text": [
      "\r",
      " 92%|█████████▏| 49206/53737 [00:08<00:00, 6511.22it/s]"
     ]
    },
    {
     "name": "stderr",
     "output_type": "stream",
     "text": [
      "\r",
      " 93%|█████████▎| 49866/53737 [00:08<00:00, 6519.29it/s]"
     ]
    },
    {
     "name": "stderr",
     "output_type": "stream",
     "text": [
      "\r",
      " 94%|█████████▍| 50518/53737 [00:08<00:00, 6482.73it/s]"
     ]
    },
    {
     "name": "stderr",
     "output_type": "stream",
     "text": [
      "\r",
      " 95%|█████████▌| 51167/53737 [00:09<00:00, 6267.50it/s]"
     ]
    },
    {
     "name": "stderr",
     "output_type": "stream",
     "text": [
      "\r",
      " 96%|█████████▋| 51796/53737 [00:09<00:00, 6043.11it/s]"
     ]
    },
    {
     "name": "stderr",
     "output_type": "stream",
     "text": [
      "\r",
      " 98%|█████████▊| 52404/53737 [00:09<00:00, 6040.37it/s]"
     ]
    },
    {
     "name": "stderr",
     "output_type": "stream",
     "text": [
      "\r",
      " 99%|█████████▊| 53010/53737 [00:09<00:00, 6024.28it/s]"
     ]
    },
    {
     "name": "stderr",
     "output_type": "stream",
     "text": [
      "\r",
      "100%|█████████▉| 53644/53737 [00:09<00:00, 6108.85it/s]"
     ]
    },
    {
     "name": "stderr",
     "output_type": "stream",
     "text": [
      "\r",
      "100%|██████████| 53737/53737 [00:09<00:00, 5623.28it/s]"
     ]
    },
    {
     "name": "stderr",
     "output_type": "stream",
     "text": [
      "\n"
     ]
    },
    {
     "data": {
      "text/html": [
       "<div>\n",
       "<style scoped>\n",
       "    .dataframe tbody tr th:only-of-type {\n",
       "        vertical-align: middle;\n",
       "    }\n",
       "\n",
       "    .dataframe tbody tr th {\n",
       "        vertical-align: top;\n",
       "    }\n",
       "\n",
       "    .dataframe thead th {\n",
       "        text-align: right;\n",
       "    }\n",
       "</style>\n",
       "<table border=\"1\" class=\"dataframe\">\n",
       "  <thead>\n",
       "    <tr style=\"text-align: right;\">\n",
       "      <th></th>\n",
       "      <th>Year</th>\n",
       "      <th>Mean illiq</th>\n",
       "      <th>Median illiq</th>\n",
       "      <th>Per t greater 1.96</th>\n",
       "      <th>Robust t stat</th>\n",
       "    </tr>\n",
       "  </thead>\n",
       "  <tbody>\n",
       "    <tr>\n",
       "      <th>0</th>\n",
       "      <td>2003</td>\n",
       "      <td>1.303793</td>\n",
       "      <td>0.337898</td>\n",
       "      <td>88.762122</td>\n",
       "      <td>55.723498</td>\n",
       "    </tr>\n",
       "    <tr>\n",
       "      <th>1</th>\n",
       "      <td>2004</td>\n",
       "      <td>1.019589</td>\n",
       "      <td>0.213466</td>\n",
       "      <td>89.986712</td>\n",
       "      <td>1.274378</td>\n",
       "    </tr>\n",
       "    <tr>\n",
       "      <th>2</th>\n",
       "      <td>2005</td>\n",
       "      <td>0.665460</td>\n",
       "      <td>0.142755</td>\n",
       "      <td>93.402677</td>\n",
       "      <td>72.538561</td>\n",
       "    </tr>\n",
       "    <tr>\n",
       "      <th>3</th>\n",
       "      <td>2006</td>\n",
       "      <td>0.371456</td>\n",
       "      <td>0.119556</td>\n",
       "      <td>93.900834</td>\n",
       "      <td>2.430898</td>\n",
       "    </tr>\n",
       "    <tr>\n",
       "      <th>4</th>\n",
       "      <td>2007</td>\n",
       "      <td>0.278741</td>\n",
       "      <td>0.115967</td>\n",
       "      <td>93.330687</td>\n",
       "      <td>2.180491</td>\n",
       "    </tr>\n",
       "    <tr>\n",
       "      <th>5</th>\n",
       "      <td>2008</td>\n",
       "      <td>2.121446</td>\n",
       "      <td>0.259996</td>\n",
       "      <td>81.552785</td>\n",
       "      <td>31.901778</td>\n",
       "    </tr>\n",
       "    <tr>\n",
       "      <th>6</th>\n",
       "      <td>2009</td>\n",
       "      <td>2.401927</td>\n",
       "      <td>0.363650</td>\n",
       "      <td>88.403179</td>\n",
       "      <td>36.825191</td>\n",
       "    </tr>\n",
       "    <tr>\n",
       "      <th>7</th>\n",
       "      <td>Full</td>\n",
       "      <td>0.973140</td>\n",
       "      <td>0.186082</td>\n",
       "      <td>90.721015</td>\n",
       "      <td>3.154765</td>\n",
       "    </tr>\n",
       "  </tbody>\n",
       "</table>\n",
       "</div>"
      ],
      "text/plain": [
       "   Year  Mean illiq  Median illiq  Per t greater 1.96  Robust t stat\n",
       "0  2003    1.303793      0.337898           88.762122      55.723498\n",
       "1  2004    1.019589      0.213466           89.986712       1.274378\n",
       "2  2005    0.665460      0.142755           93.402677      72.538561\n",
       "3  2006    0.371456      0.119556           93.900834       2.430898\n",
       "4  2007    0.278741      0.115967           93.330687       2.180491\n",
       "5  2008    2.121446      0.259996           81.552785      31.901778\n",
       "6  2009    2.401927      0.363650           88.403179      36.825191\n",
       "7  Full    0.973140      0.186082           90.721015       3.154765"
      ]
     },
     "execution_count": 5,
     "metadata": {},
     "output_type": "execute_result"
    }
   ],
   "source": [
    "_, table2_intraday = table2_calc_illiquidity.calc_annual_illiquidity_table(df)\n",
    "table2_intraday"
   ]
  }
 ],
 "metadata": {
  "language_info": {
   "name": "python"
  }
 },
 "nbformat": 4,
 "nbformat_minor": 5
}
