{
 "cells": [
  {
   "cell_type": "markdown",
   "source": [
    "# Illiquidity Calculation\n",
    "\n",
    "  - This notebook walks through illiquidity calculations based on methodology in The Illiquidity of Corporate Bonds, Bao, Pan, and Wang (2010).\n",
    "\n",
    "  - In order to avoid re-running the notebook every time it changes (it changes often, even by the act of opening it) and to only rerun it if meaningful changes have been made, the build system only looks for changes in the plaintext version of the notebook. That is, the notebook is converted to a Python script via [nbconvert](https://nbconvert.readthedocs.io/en/latest/), which is often packaged with Jupyter.\n",
    "  Then, DoIt looks for changes to the Python version. If it detects a difference, then the notebook is re-run. (Note, that you could also convert to a Markdown file with \n",
    "  [JupyText](https://github.com/mwouts/jupytext). However, this package is often not packaged with Jupyter.)\n",
    "  - Since we want to use Jupyter Notebooks for exploratory reports, we want to keep fully-computed versions of the notebook (with the output intact). However, earlier I said that I strip the notebook of its output before committing to version control. Well, to keep the output, every time PyDoit runs the notebook, it outputs an HTML version of the freshly run notebook and saves that HTML report in the `output` directory. That way, you will be able to view the finished report at any time without having to open Jupyter."
   ],
   "metadata": {
    "collapsed": false
   },
   "id": "b745600806c81e3e"
  },
  {
   "cell_type": "code",
   "outputs": [],
   "source": [
    "import config\n",
    "\n",
    "OUTPUT_DIR = config.OUTPUT_DIR\n",
    "DATA_DIR = config.DATA_DIR"
   ],
   "metadata": {
    "collapsed": true,
    "ExecuteTime": {
     "end_time": "2024-03-01T16:24:23.487171700Z",
     "start_time": "2024-03-01T16:24:23.468150200Z"
    }
   },
   "id": "initial_id",
   "execution_count": 3
  },
  {
   "cell_type": "code",
   "outputs": [],
   "source": [
    "import pandas as pd\n",
    "from tqdm import tqdm\n",
    "import numpy as np\n",
    "import glob\n",
    "from scipy import stats\n",
    "from pandas.tseries.holiday import USFederalHolidayCalendar\n",
    "from pandas.tseries.offsets import CustomBusinessDay\n",
    "from statsmodels.stats.stattools import durbin_watson\n",
    "from statsmodels.regression.linear_model import OLS\n",
    "from statsmodels.stats.sandwich_covariance import cov_hac\n",
    "from statsmodels.tools.tools import add_constant"
   ],
   "metadata": {
    "collapsed": false,
    "ExecuteTime": {
     "end_time": "2024-03-01T16:24:25.469981700Z",
     "start_time": "2024-03-01T16:24:23.823053Z"
    }
   },
   "id": "8203583f84b6199f",
   "execution_count": 4
  },
  {
   "cell_type": "code",
   "outputs": [],
   "source": [
    "import misc_tools\n",
    "import load_wrds_bondret\n",
    "import load_opensource\n",
    "import load_intraday\n",
    "import data_processing as data"
   ],
   "metadata": {
    "collapsed": false,
    "ExecuteTime": {
     "end_time": "2024-03-01T16:24:26.354540800Z",
     "start_time": "2024-03-01T16:24:25.469981700Z"
    }
   },
   "id": "b114d1ca12385b86",
   "execution_count": 5
  },
  {
   "cell_type": "code",
   "outputs": [],
   "source": [
    "# Load the raw intraday data\n"
   ],
   "metadata": {
    "collapsed": false,
    "ExecuteTime": {
     "end_time": "2024-03-03T19:15:36.149431500Z",
     "start_time": "2024-03-03T19:15:25.007269200Z"
    }
   },
   "id": "92c7a877b4e854bf",
   "execution_count": 62
  },
  {
   "cell_type": "markdown",
   "source": [
    "# Step 1: Clean Merged Data for Intraday Illiquidity Calculation\n",
    "\n",
    "Before calculating illiquidity measures, it's essential to ensure that our corporate bond data is accurate and relevant. The `clean_intraday` function takes care of preparing the intraday data by performing several critical cleaning steps:\n",
    "\n",
    "- Merges trade data and trade time to timestamp\n",
    "- Runs Dickerson filters to remove trades that the per-filtering steps missed\n"
   ],
   "metadata": {
    "collapsed": false
   },
   "id": "5f709a43cf3fb86"
  },
  {
   "cell_type": "code",
   "outputs": [],
   "source": [
    "def clean_intraday(start_date, end_date):\n",
    "    df = load_intraday.load_intraday_TRACE()\n",
    "    df = df[(df['trd_exctn_dt'] >= start_date) & (df['trd_exctn_dt'] <= end_date)]\n",
    "    df['trd_exctn_dt'] = pd.to_datetime(df['trd_exctn_dt'])\n",
    "    df['trd_exctn_tm'] = pd.to_datetime(df['trd_exctn_tm'], format='%H:%M:%S').dt.time\n",
    "    df['trd_tmstamp'] = pd.to_datetime(df['trd_exctn_dt'].dt.strftime('%Y-%m-%d') + ' ' + df['trd_exctn_tm'].astype(str))\n",
    "    \n",
    "    # dickerson clean\n",
    "    df = df[(df['days_to_sttl_ct'] <= 2.0) | (df['days_to_sttl_ct'] == None) | (df['days_to_sttl_ct'] == np.NAN)]\n",
    "    df = df[df['wis_fl'] != 'Y']\n",
    "    df = df[(df['lckd_in_ind'] != 'Y')]\n",
    "    df = df[(df['sale_cndtn_cd'] == 'None') | (df['sale_cndtn_cd'] == '@')]\n",
    "    df = df[df['entrd_vol_qt'] >= 10000]\n",
    "    df = df[((df['rptd_pr'] > 5) & (df['rptd_pr'] < 1000))]\n",
    "    \n",
    "    df['month_year'] = df['trd_exctn_dt'].dt.to_period('M') \n",
    "    df.rename(columns={'rptd_pr': 'prclean', 'cusip_id':'cusip'}, inplace=True)\n",
    "    df.sort_values(by=['cusip', 'trd_tmstamp'], inplace=True)\n",
    "    return df"
   ],
   "metadata": {
    "collapsed": false,
    "ExecuteTime": {
     "end_time": "2024-03-03T19:11:47.077703800Z",
     "start_time": "2024-03-03T19:11:47.050092100Z"
    }
   },
   "id": "afca0f4468d54572",
   "execution_count": 60
  },
  {
   "cell_type": "code",
   "outputs": [
    {
     "data": {
      "text/plain": "             cusip bond_sym_id trd_exctn_dt trd_exctn_tm  days_to_sttl_ct lckd_in_ind wis_fl sale_cndtn_cd  msg_seq_nb trc_st  trd_rpt_dt trd_rpt_tm  entrd_vol_qt  prclean    yld_pt asof_cd  orig_msg_seq_nb rpt_side_cd cntra_mp_id         trd_tmstamp month_year\n2901513  001546AE0      AKS.GC   2003-04-14     12:05:33              0.0        None      N             @       10675      T  2003-04-14   12:05:47     5000000.0  94.3750  9.136800    None              NaN           B           C 2003-04-14 12:05:33    2003-04\n2901514  001546AE0      AKS.GC   2003-04-14     13:00:16              0.0        None      N             @       14878      T  2003-04-14   13:00:47     1000000.0  93.6250  9.312567    None              NaN           B           C 2003-04-14 13:00:16    2003-04\n2901515  001546AE0      AKS.GC   2003-04-14     13:00:44              0.0        None      N             @       14891      T  2003-04-14   13:01:07     1000000.0  93.9375  9.239120    None              NaN           S           C 2003-04-14 13:00:44    2003-04\n2901516  001546AE0      AKS.GC   2003-04-14     13:07:28              0.0        None      N             @       15340      T  2003-04-14   13:07:42     2000000.0  93.5000  9.342031    None              NaN           B           C 2003-04-14 13:07:28    2003-04\n2901517  001546AE0      AKS.GC   2003-04-14     13:07:52              0.0        None      N             @       15352      T  2003-04-14   13:07:57     1000000.0  94.0000  9.224466    None              NaN           S           C 2003-04-14 13:07:52    2003-04",
      "text/html": "<div>\n<style scoped>\n    .dataframe tbody tr th:only-of-type {\n        vertical-align: middle;\n    }\n\n    .dataframe tbody tr th {\n        vertical-align: top;\n    }\n\n    .dataframe thead th {\n        text-align: right;\n    }\n</style>\n<table border=\"1\" class=\"dataframe\">\n  <thead>\n    <tr style=\"text-align: right;\">\n      <th></th>\n      <th>cusip</th>\n      <th>bond_sym_id</th>\n      <th>trd_exctn_dt</th>\n      <th>trd_exctn_tm</th>\n      <th>days_to_sttl_ct</th>\n      <th>lckd_in_ind</th>\n      <th>wis_fl</th>\n      <th>sale_cndtn_cd</th>\n      <th>msg_seq_nb</th>\n      <th>trc_st</th>\n      <th>trd_rpt_dt</th>\n      <th>trd_rpt_tm</th>\n      <th>entrd_vol_qt</th>\n      <th>prclean</th>\n      <th>yld_pt</th>\n      <th>asof_cd</th>\n      <th>orig_msg_seq_nb</th>\n      <th>rpt_side_cd</th>\n      <th>cntra_mp_id</th>\n      <th>trd_tmstamp</th>\n      <th>month_year</th>\n    </tr>\n  </thead>\n  <tbody>\n    <tr>\n      <th>2901513</th>\n      <td>001546AE0</td>\n      <td>AKS.GC</td>\n      <td>2003-04-14</td>\n      <td>12:05:33</td>\n      <td>0.0</td>\n      <td>None</td>\n      <td>N</td>\n      <td>@</td>\n      <td>10675</td>\n      <td>T</td>\n      <td>2003-04-14</td>\n      <td>12:05:47</td>\n      <td>5000000.0</td>\n      <td>94.3750</td>\n      <td>9.136800</td>\n      <td>None</td>\n      <td>NaN</td>\n      <td>B</td>\n      <td>C</td>\n      <td>2003-04-14 12:05:33</td>\n      <td>2003-04</td>\n    </tr>\n    <tr>\n      <th>2901514</th>\n      <td>001546AE0</td>\n      <td>AKS.GC</td>\n      <td>2003-04-14</td>\n      <td>13:00:16</td>\n      <td>0.0</td>\n      <td>None</td>\n      <td>N</td>\n      <td>@</td>\n      <td>14878</td>\n      <td>T</td>\n      <td>2003-04-14</td>\n      <td>13:00:47</td>\n      <td>1000000.0</td>\n      <td>93.6250</td>\n      <td>9.312567</td>\n      <td>None</td>\n      <td>NaN</td>\n      <td>B</td>\n      <td>C</td>\n      <td>2003-04-14 13:00:16</td>\n      <td>2003-04</td>\n    </tr>\n    <tr>\n      <th>2901515</th>\n      <td>001546AE0</td>\n      <td>AKS.GC</td>\n      <td>2003-04-14</td>\n      <td>13:00:44</td>\n      <td>0.0</td>\n      <td>None</td>\n      <td>N</td>\n      <td>@</td>\n      <td>14891</td>\n      <td>T</td>\n      <td>2003-04-14</td>\n      <td>13:01:07</td>\n      <td>1000000.0</td>\n      <td>93.9375</td>\n      <td>9.239120</td>\n      <td>None</td>\n      <td>NaN</td>\n      <td>S</td>\n      <td>C</td>\n      <td>2003-04-14 13:00:44</td>\n      <td>2003-04</td>\n    </tr>\n    <tr>\n      <th>2901516</th>\n      <td>001546AE0</td>\n      <td>AKS.GC</td>\n      <td>2003-04-14</td>\n      <td>13:07:28</td>\n      <td>0.0</td>\n      <td>None</td>\n      <td>N</td>\n      <td>@</td>\n      <td>15340</td>\n      <td>T</td>\n      <td>2003-04-14</td>\n      <td>13:07:42</td>\n      <td>2000000.0</td>\n      <td>93.5000</td>\n      <td>9.342031</td>\n      <td>None</td>\n      <td>NaN</td>\n      <td>B</td>\n      <td>C</td>\n      <td>2003-04-14 13:07:28</td>\n      <td>2003-04</td>\n    </tr>\n    <tr>\n      <th>2901517</th>\n      <td>001546AE0</td>\n      <td>AKS.GC</td>\n      <td>2003-04-14</td>\n      <td>13:07:52</td>\n      <td>0.0</td>\n      <td>None</td>\n      <td>N</td>\n      <td>@</td>\n      <td>15352</td>\n      <td>T</td>\n      <td>2003-04-14</td>\n      <td>13:07:57</td>\n      <td>1000000.0</td>\n      <td>94.0000</td>\n      <td>9.224466</td>\n      <td>None</td>\n      <td>NaN</td>\n      <td>S</td>\n      <td>C</td>\n      <td>2003-04-14 13:07:52</td>\n      <td>2003-04</td>\n    </tr>\n  </tbody>\n</table>\n</div>"
     },
     "execution_count": 63,
     "metadata": {},
     "output_type": "execute_result"
    }
   ],
   "source": [
    "df = clean_intraday('2003-04-14', '2009-06-30')\n",
    "df.head()"
   ],
   "metadata": {
    "collapsed": false,
    "ExecuteTime": {
     "end_time": "2024-03-03T19:20:42.566085400Z",
     "start_time": "2024-03-03T19:19:05.610141400Z"
    }
   },
   "id": "56516cf1ce2dfd3a",
   "execution_count": 63
  },
  {
   "cell_type": "markdown",
   "source": [
    "# Step 2: Calculate Price Changes and Perform Additional Cleaning\n",
    "\n",
    "In this part of the analysis pipeline, we use the `calc_deltaprc` function to compute daily price changes for corporate bonds, designed to operate on cleaned and merged daily corporate bond trade data.\n",
    "\n",
    "This calculation is based on the Measure of Illiquidity on page 10 and 11 of the peper: $ \\gamma = -\\text{Cov}(p_t - p_{t-1}, p_{t+1} - p_t) $. The process involves several steps:\n",
    "- Calculation of Log Prices: Transform cleaned prices to log prices for more stable numerical properties.\n",
    "- Lagged and Lead Price Changes: Determine the price changes by computing lagged and lead log prices.\n",
    "- Restricting Returns: Ensure that calculated price changes (returns) are within the range of -100% to 100%.\n",
    "- Conversion to Percentage: Change the representation of price changes from decimal to percentage for clarity.\n",
    "- Cleaning Data: Remove entries with incomplete information to maintain the quality of the dataset.\n",
    "- Filtering by Trade Count: Exclude bonds with fewer than 10 trade observations to focus on more reliable data.\n",
    "\n",
    "This function is essential for preparing the bond price data for accurate calculation of financial metrics such as illiquidity."
   ],
   "metadata": {
    "collapsed": false
   },
   "id": "7290c771dfe75cdc"
  },
  {
   "cell_type": "code",
   "outputs": [],
   "source": [
    "def calc_deltaprc(df):\n",
    "    \"\"\"Calculate delta price and delta price_lag for each intraday trade with additional cleaning.\n",
    "    \"\"\"\n",
    "\n",
    "    # Calculate lagged and lead log prices, and corresponding delta p (percentage returns)\n",
    "    df['logprc'] = np.log(df['prclean'])\n",
    "    df['logprc_lag'] = df.groupby('cusip')['logprc'].shift(1)\n",
    "    df['deltap'] = df['logprc'] - df['logprc_lag']\n",
    "\n",
    "    # Restrict log returns to be in the interval [1,1]\n",
    "    df['deltap'] = np.where(df['deltap'] > 1, 1, df['deltap'])\n",
    "    df['deltap'] = np.where(df['deltap'] < -1, -1, df['deltap'])\n",
    "\n",
    "    # Convert deltap to % i.e. returns in % as opposed to decimals\n",
    "    df['deltap'] = df['deltap'] * 100\n",
    "\n",
    "    # Repeat similar process for deltap_lag\n",
    "    df['logprc_lead'] = df.groupby('cusip')['logprc'].shift(-1)\n",
    "    df['deltap_lag'] = df['logprc_lead'] - df['logprc']\n",
    "    df['deltap_lag'] = np.where(df['deltap_lag'] > 1, 1, df['deltap_lag'])\n",
    "    df['deltap_lag'] = np.where(df['deltap_lag'] < -1, -1, df['deltap_lag'])\n",
    "    df['deltap_lag'] = df['deltap_lag'] * 100\n",
    "\n",
    "    # Drop NAs in deltap, deltap_lag and bonds < 10 observations of the paired price changes\n",
    "    df_final = df.dropna(subset=['deltap', 'deltap_lag',\n",
    "                                 'prclean'])  # 'offering_date', 'price_ldm', 'offering_price', 'amount_outstanding'])\n",
    "\n",
    "    return df_final"
   ],
   "metadata": {
    "collapsed": false,
    "ExecuteTime": {
     "end_time": "2024-03-03T19:21:00.553048900Z",
     "start_time": "2024-03-03T19:21:00.533879800Z"
    }
   },
   "id": "d1a8a507af2603fa",
   "execution_count": 64
  },
  {
   "cell_type": "code",
   "outputs": [
    {
     "data": {
      "text/plain": "             cusip bond_sym_id trd_exctn_dt trd_exctn_tm  days_to_sttl_ct lckd_in_ind wis_fl sale_cndtn_cd  msg_seq_nb trc_st  trd_rpt_dt trd_rpt_tm  entrd_vol_qt  prclean    yld_pt asof_cd  orig_msg_seq_nb rpt_side_cd cntra_mp_id         trd_tmstamp month_year    logprc  logprc_lag    deltap  logprc_lead  deltap_lag\n2901514  001546AE0      AKS.GC   2003-04-14     13:00:16              0.0        None      N             @       14878      T  2003-04-14   13:00:47     1000000.0  93.6250  9.312567    None              NaN           B           C 2003-04-14 13:00:16    2003-04  4.539297    4.547276 -0.797877     4.542630    0.333223\n2901515  001546AE0      AKS.GC   2003-04-14     13:00:44              0.0        None      N             @       14891      T  2003-04-14   13:01:07     1000000.0  93.9375  9.239120    None              NaN           S           C 2003-04-14 13:00:44    2003-04  4.542630    4.539297  0.333223     4.537961   -0.466823\n2901516  001546AE0      AKS.GC   2003-04-14     13:07:28              0.0        None      N             @       15340      T  2003-04-14   13:07:42     2000000.0  93.5000  9.342031    None              NaN           B           C 2003-04-14 13:07:28    2003-04  4.537961    4.542630 -0.466823     4.543295    0.533335\n2901517  001546AE0      AKS.GC   2003-04-14     13:07:52              0.0        None      N             @       15352      T  2003-04-14   13:07:57     1000000.0  94.0000  9.224466    None              NaN           S           C 2003-04-14 13:07:52    2003-04  4.543295    4.537961  0.533335     4.547276    0.398143\n2901518  001546AE0      AKS.GC   2003-04-14     13:10:53              0.0        None      N             @       19051      T  2003-04-14   13:58:00     1000000.0  94.3750  9.137000    None              NaN           B           D 2003-04-14 13:10:53    2003-04  4.547276    4.543295  0.398143     4.546614   -0.066247",
      "text/html": "<div>\n<style scoped>\n    .dataframe tbody tr th:only-of-type {\n        vertical-align: middle;\n    }\n\n    .dataframe tbody tr th {\n        vertical-align: top;\n    }\n\n    .dataframe thead th {\n        text-align: right;\n    }\n</style>\n<table border=\"1\" class=\"dataframe\">\n  <thead>\n    <tr style=\"text-align: right;\">\n      <th></th>\n      <th>cusip</th>\n      <th>bond_sym_id</th>\n      <th>trd_exctn_dt</th>\n      <th>trd_exctn_tm</th>\n      <th>days_to_sttl_ct</th>\n      <th>lckd_in_ind</th>\n      <th>wis_fl</th>\n      <th>sale_cndtn_cd</th>\n      <th>msg_seq_nb</th>\n      <th>trc_st</th>\n      <th>trd_rpt_dt</th>\n      <th>trd_rpt_tm</th>\n      <th>entrd_vol_qt</th>\n      <th>prclean</th>\n      <th>yld_pt</th>\n      <th>asof_cd</th>\n      <th>orig_msg_seq_nb</th>\n      <th>rpt_side_cd</th>\n      <th>cntra_mp_id</th>\n      <th>trd_tmstamp</th>\n      <th>month_year</th>\n      <th>logprc</th>\n      <th>logprc_lag</th>\n      <th>deltap</th>\n      <th>logprc_lead</th>\n      <th>deltap_lag</th>\n    </tr>\n  </thead>\n  <tbody>\n    <tr>\n      <th>2901514</th>\n      <td>001546AE0</td>\n      <td>AKS.GC</td>\n      <td>2003-04-14</td>\n      <td>13:00:16</td>\n      <td>0.0</td>\n      <td>None</td>\n      <td>N</td>\n      <td>@</td>\n      <td>14878</td>\n      <td>T</td>\n      <td>2003-04-14</td>\n      <td>13:00:47</td>\n      <td>1000000.0</td>\n      <td>93.6250</td>\n      <td>9.312567</td>\n      <td>None</td>\n      <td>NaN</td>\n      <td>B</td>\n      <td>C</td>\n      <td>2003-04-14 13:00:16</td>\n      <td>2003-04</td>\n      <td>4.539297</td>\n      <td>4.547276</td>\n      <td>-0.797877</td>\n      <td>4.542630</td>\n      <td>0.333223</td>\n    </tr>\n    <tr>\n      <th>2901515</th>\n      <td>001546AE0</td>\n      <td>AKS.GC</td>\n      <td>2003-04-14</td>\n      <td>13:00:44</td>\n      <td>0.0</td>\n      <td>None</td>\n      <td>N</td>\n      <td>@</td>\n      <td>14891</td>\n      <td>T</td>\n      <td>2003-04-14</td>\n      <td>13:01:07</td>\n      <td>1000000.0</td>\n      <td>93.9375</td>\n      <td>9.239120</td>\n      <td>None</td>\n      <td>NaN</td>\n      <td>S</td>\n      <td>C</td>\n      <td>2003-04-14 13:00:44</td>\n      <td>2003-04</td>\n      <td>4.542630</td>\n      <td>4.539297</td>\n      <td>0.333223</td>\n      <td>4.537961</td>\n      <td>-0.466823</td>\n    </tr>\n    <tr>\n      <th>2901516</th>\n      <td>001546AE0</td>\n      <td>AKS.GC</td>\n      <td>2003-04-14</td>\n      <td>13:07:28</td>\n      <td>0.0</td>\n      <td>None</td>\n      <td>N</td>\n      <td>@</td>\n      <td>15340</td>\n      <td>T</td>\n      <td>2003-04-14</td>\n      <td>13:07:42</td>\n      <td>2000000.0</td>\n      <td>93.5000</td>\n      <td>9.342031</td>\n      <td>None</td>\n      <td>NaN</td>\n      <td>B</td>\n      <td>C</td>\n      <td>2003-04-14 13:07:28</td>\n      <td>2003-04</td>\n      <td>4.537961</td>\n      <td>4.542630</td>\n      <td>-0.466823</td>\n      <td>4.543295</td>\n      <td>0.533335</td>\n    </tr>\n    <tr>\n      <th>2901517</th>\n      <td>001546AE0</td>\n      <td>AKS.GC</td>\n      <td>2003-04-14</td>\n      <td>13:07:52</td>\n      <td>0.0</td>\n      <td>None</td>\n      <td>N</td>\n      <td>@</td>\n      <td>15352</td>\n      <td>T</td>\n      <td>2003-04-14</td>\n      <td>13:07:57</td>\n      <td>1000000.0</td>\n      <td>94.0000</td>\n      <td>9.224466</td>\n      <td>None</td>\n      <td>NaN</td>\n      <td>S</td>\n      <td>C</td>\n      <td>2003-04-14 13:07:52</td>\n      <td>2003-04</td>\n      <td>4.543295</td>\n      <td>4.537961</td>\n      <td>0.533335</td>\n      <td>4.547276</td>\n      <td>0.398143</td>\n    </tr>\n    <tr>\n      <th>2901518</th>\n      <td>001546AE0</td>\n      <td>AKS.GC</td>\n      <td>2003-04-14</td>\n      <td>13:10:53</td>\n      <td>0.0</td>\n      <td>None</td>\n      <td>N</td>\n      <td>@</td>\n      <td>19051</td>\n      <td>T</td>\n      <td>2003-04-14</td>\n      <td>13:58:00</td>\n      <td>1000000.0</td>\n      <td>94.3750</td>\n      <td>9.137000</td>\n      <td>None</td>\n      <td>NaN</td>\n      <td>B</td>\n      <td>D</td>\n      <td>2003-04-14 13:10:53</td>\n      <td>2003-04</td>\n      <td>4.547276</td>\n      <td>4.543295</td>\n      <td>0.398143</td>\n      <td>4.546614</td>\n      <td>-0.066247</td>\n    </tr>\n  </tbody>\n</table>\n</div>"
     },
     "execution_count": 65,
     "metadata": {},
     "output_type": "execute_result"
    }
   ],
   "source": [
    "df = calc_deltaprc(df)\n",
    "df.head()"
   ],
   "metadata": {
    "collapsed": false,
    "ExecuteTime": {
     "end_time": "2024-03-03T19:21:05.469440800Z",
     "start_time": "2024-03-03T19:21:01.159076600Z"
    }
   },
   "id": "959313dad9428438",
   "execution_count": 65
  },
  {
   "cell_type": "markdown",
   "source": [
    "# Step 3: Annual Illiquidity Metrics Calculation\n",
    "\n",
    "This step involves using the `calc_annual_illiquidity_table_intraday` function to calculate and summarize annual illiquidity metrics for corporate bonds. The function takes intraday bond data as input and computes several statistics that capture the illiquidity of bonds on an annual basis.\n",
    "\n",
    "- Computes the illiquidity for each bond and month by taking the negative of the covariance between intraday price changes (`deltap`) and their lagged values (`deltap_lag`).\n",
    "\n",
    "- Aggregated the monthly illiquidity measures to obtain annual statistics, including mean and median illiquidity.\n",
    "\n",
    "- Calculates t-statistics for the mean illiquidity of each bond and year and determines the percentage of these t-stats that are significant (>= 1.96).\n",
    "\n",
    "- Calculates robust t-stats are calculated using OLS with HAC (heteroskedasticity and autocorrelation consistent) standard errors.\n",
    "\n",
    "- Calculate overall statistics across the full sample period.\n",
    "\n",
    "- Compiles all these metrics into a table that presents the mean and median illiquidity, the percentage of significant t-statistics, and robust t-statistics for each year, as well as for the full sample period.\n",
    "\n",
    "This comprehensive illiquidity metric calculation allows us to understand the annual and overall liquidity characteristics of the corporate bond market."
   ],
   "metadata": {
    "collapsed": false
   },
   "id": "c93c10bb994363ea"
  },
  {
   "cell_type": "code",
   "outputs": [],
   "source": [
    "def create_annual_illiquidity_table(Illiq_month):\n",
    "    \"\"\"Create Panel A illquidity table with cleaned monthly illiquidity data.\"\"\"\n",
    "\n",
    "    overall_illiq_mean = np.mean(Illiq_month['illiq'])\n",
    "    overall_illiq_median = Illiq_month['illiq'].median()\n",
    "\n",
    "    # Calculate t-statistics for each cusip in each year\n",
    "    Illiq_month['t stat'] = Illiq_month.groupby(['cusip', 'year'])['illiq'].transform(\n",
    "        lambda x: (x.mean() / x.sem()) if x.sem() > 0 else np.nan)\n",
    "\n",
    "    # Identify the entries with t-stat >= 1.96 and calculate the percentage of significant t-stats for each year\n",
    "    Illiq_month['significant'] = Illiq_month['t stat'] >= 1.96\n",
    "    percent_significant = Illiq_month.groupby('year')['significant'].mean() * 100\n",
    "    Illiq_month = Illiq_month.dropna(subset=['illiq', 't stat'])\n",
    "    overall_percent_significant = Illiq_month['significant'].mean() * 100\n",
    "    \n",
    "    # Calculate robust t-stat for each year\n",
    "    def get_robust_t_stat(group):\n",
    "        \"\"\"Run OLS on a constant term only (mean of illiq) to get the intercept's t-stat.\"\"\"\n",
    "        X = add_constant(group['illiq'])\n",
    "        ols_result = OLS(group['illiq'], X).fit(cov_type='HAC', cov_kwds={'maxlags':1})\n",
    "\n",
    "        return abs(ols_result.tvalues[0])\n",
    "\n",
    "\n",
    "    robust_t_stats = Illiq_month.groupby('year').apply(get_robust_t_stat)\n",
    "    \n",
    "    \n",
    "    def calculate_overall_robust_t_stat(series):\n",
    "        X = add_constant(series)\n",
    "        ols_result = OLS(series, X).fit(cov_type='HAC', cov_kwds={'maxlags':1})\n",
    "        return abs(ols_result.tvalues[0])\n",
    "\n",
    "    # Call the function and assign the result to overall_robust_t_stat\n",
    "    overall_robust_t_stat = calculate_overall_robust_t_stat(Illiq_month['illiq'].dropna())\n",
    "\n",
    "    # Combine the results\n",
    "    table2_daily = pd.DataFrame({\n",
    "        'Year': robust_t_stats.index,\n",
    "        'Mean illiq': Illiq_month.groupby('year')['illiq'].mean(),\n",
    "        'Median illiq': Illiq_month.groupby('year')['illiq'].median(),\n",
    "        'Per t greater 1.96': percent_significant,\n",
    "        'Robust t stat': robust_t_stats.values\n",
    "    }).reset_index(drop=True)\n",
    "    \n",
    "    overall_data = pd.DataFrame({\n",
    "        'Year': ['Full'],\n",
    "        'Mean illiq': [overall_illiq_mean],\n",
    "        'Median illiq': [overall_illiq_median],\n",
    "        'Per t greater 1.96': [overall_percent_significant],\n",
    "        'Robust t stat': [overall_robust_t_stat]\n",
    "    })\n",
    "\n",
    "    table2_daily = pd.concat([table2_daily, overall_data], ignore_index=True)\n",
    "\n",
    "    return Illiq_month, table2_daily"
   ],
   "metadata": {
    "collapsed": false,
    "ExecuteTime": {
     "end_time": "2024-03-03T19:22:54.868042900Z",
     "start_time": "2024-03-03T19:22:54.857005400Z"
    }
   },
   "id": "ff7559c16abff20d",
   "execution_count": 66
  },
  {
   "cell_type": "code",
   "outputs": [],
   "source": [
    "def calc_annual_illiquidity_table_intraday(df):\n",
    "    \"\"\"Calculate illiquidity = -cov(deltap, deltap_lag) using daily data, by month.\"\"\"\n",
    "\n",
    "    tqdm.pandas()\n",
    "    \n",
    "    Illiq_month = df.groupby(['cusip','month_year'] )[['deltap','deltap_lag']]\\\n",
    "        .progress_apply(lambda x: x.cov().iloc[0,1]) * -1\n",
    "    Illiq_month = Illiq_month.reset_index()\n",
    "    Illiq_month.columns = ['cusip','month_year','illiq']\n",
    "    Illiq_month['year'] = Illiq_month['month_year'].dt.year\n",
    "    Illiq_month = Illiq_month.dropna(subset=['illiq'])\n",
    "    # Illiq_month = Illiq_month[Illiq_month['illiq'] < 2000]  # for outliers\n",
    "    Illiq_month, table2_daily = create_annual_illiquidity_table(Illiq_month)\n",
    "    \n",
    "    return Illiq_month, table2_daily"
   ],
   "metadata": {
    "collapsed": false,
    "ExecuteTime": {
     "end_time": "2024-03-03T19:22:55.325121100Z",
     "start_time": "2024-03-03T19:22:55.306725900Z"
    }
   },
   "id": "5a006c8c3885b4c9",
   "execution_count": 67
  },
  {
   "cell_type": "code",
   "outputs": [
    {
     "name": "stderr",
     "output_type": "stream",
     "text": [
      "  0%|          | 1/53709 [00:04<63:49:00,  4.28s/it]C:\\Users\\hyoun\\PycharmProjects\\corporate_bond_liquidity_research\\venv\\lib\\site-packages\\pandas\\core\\frame.py:10866: RuntimeWarning: Degrees of freedom <= 0 for slice\n",
      "  base_cov = np.cov(mat.T, ddof=ddof)\n",
      "C:\\Users\\hyoun\\PycharmProjects\\corporate_bond_liquidity_research\\venv\\lib\\site-packages\\numpy\\lib\\function_base.py:2748: RuntimeWarning: divide by zero encountered in divide\n",
      "  c *= np.true_divide(1, fact)\n",
      "C:\\Users\\hyoun\\PycharmProjects\\corporate_bond_liquidity_research\\venv\\lib\\site-packages\\numpy\\lib\\function_base.py:2748: RuntimeWarning: invalid value encountered in multiply\n",
      "  c *= np.true_divide(1, fact)\n",
      "100%|██████████| 53709/53709 [00:12<00:00, 4335.45it/s]\n",
      "C:\\Users\\hyoun\\AppData\\Local\\Temp\\ipykernel_18224\\3763029603.py:23: FutureWarning: Series.__getitem__ treating keys as positions is deprecated. In a future version, integer keys will always be treated as labels (consistent with DataFrame behavior). To access a value by position, use `ser.iloc[pos]`\n",
      "  return abs(ols_result.tvalues[0])\n",
      "C:\\Users\\hyoun\\AppData\\Local\\Temp\\ipykernel_18224\\3763029603.py:23: FutureWarning: Series.__getitem__ treating keys as positions is deprecated. In a future version, integer keys will always be treated as labels (consistent with DataFrame behavior). To access a value by position, use `ser.iloc[pos]`\n",
      "  return abs(ols_result.tvalues[0])\n",
      "C:\\Users\\hyoun\\AppData\\Local\\Temp\\ipykernel_18224\\3763029603.py:23: FutureWarning: Series.__getitem__ treating keys as positions is deprecated. In a future version, integer keys will always be treated as labels (consistent with DataFrame behavior). To access a value by position, use `ser.iloc[pos]`\n",
      "  return abs(ols_result.tvalues[0])\n",
      "C:\\Users\\hyoun\\AppData\\Local\\Temp\\ipykernel_18224\\3763029603.py:23: FutureWarning: Series.__getitem__ treating keys as positions is deprecated. In a future version, integer keys will always be treated as labels (consistent with DataFrame behavior). To access a value by position, use `ser.iloc[pos]`\n",
      "  return abs(ols_result.tvalues[0])\n",
      "C:\\Users\\hyoun\\AppData\\Local\\Temp\\ipykernel_18224\\3763029603.py:23: FutureWarning: Series.__getitem__ treating keys as positions is deprecated. In a future version, integer keys will always be treated as labels (consistent with DataFrame behavior). To access a value by position, use `ser.iloc[pos]`\n",
      "  return abs(ols_result.tvalues[0])\n",
      "C:\\Users\\hyoun\\AppData\\Local\\Temp\\ipykernel_18224\\3763029603.py:23: FutureWarning: Series.__getitem__ treating keys as positions is deprecated. In a future version, integer keys will always be treated as labels (consistent with DataFrame behavior). To access a value by position, use `ser.iloc[pos]`\n",
      "  return abs(ols_result.tvalues[0])\n",
      "C:\\Users\\hyoun\\AppData\\Local\\Temp\\ipykernel_18224\\3763029603.py:23: FutureWarning: Series.__getitem__ treating keys as positions is deprecated. In a future version, integer keys will always be treated as labels (consistent with DataFrame behavior). To access a value by position, use `ser.iloc[pos]`\n",
      "  return abs(ols_result.tvalues[0])\n",
      "C:\\Users\\hyoun\\AppData\\Local\\Temp\\ipykernel_18224\\3763029603.py:32: FutureWarning: Series.__getitem__ treating keys as positions is deprecated. In a future version, integer keys will always be treated as labels (consistent with DataFrame behavior). To access a value by position, use `ser.iloc[pos]`\n",
      "  return abs(ols_result.tvalues[0])\n"
     ]
    },
    {
     "data": {
      "text/plain": "(           cusip month_year      illiq  year    t stat  significant\n 0      001546AE0    2003-04   0.109455  2003  1.670839        False\n 1      001546AE0    2003-05   0.501095  2003  1.670839        False\n 2      001546AE0    2003-06   1.098252  2003  1.670839        False\n 3      001546AE0    2003-07   3.128340  2003  1.670839        False\n 4      001546AE0    2003-08  12.506482  2003  1.670839        False\n ...          ...        ...        ...   ...       ...          ...\n 53704  984121BL6    2009-02   0.087494  2009  4.688525         True\n 53705  984121BL6    2009-03   0.263273  2009  4.688525         True\n 53706  984121BL6    2009-04   0.085292  2009  4.688525         True\n 53707  984121BL6    2009-05   0.107095  2009  4.688525         True\n 53708  984121BL6    2009-06   0.096407  2009  4.688525         True\n \n [53568 rows x 6 columns],\n    Year  Mean illiq  Median illiq  Per t greater 1.96  Robust t stat\n 0  2003    1.422394      0.380685           89.684691       3.558605\n 1  2004    1.194314      0.243591           90.285823       1.449784\n 2  2005    0.599488      0.160945           94.103478       4.780106\n 3  2006    0.391183      0.131678           93.585237       2.440706\n 4  2007    0.454248      0.121441           91.878643       2.929758\n 5  2008    2.081238      0.256727           82.683504      11.701014\n 6  2009    2.342096      0.363547           89.483195      13.444286\n 7  Full    1.030223      0.203726           90.968489       2.215580)"
     },
     "execution_count": 69,
     "metadata": {},
     "output_type": "execute_result"
    }
   ],
   "source": [
    "table2_intraday = calc_annual_illiquidity_table_intraday(df)\n",
    "table2_intraday"
   ],
   "metadata": {
    "collapsed": false,
    "ExecuteTime": {
     "end_time": "2024-03-03T19:23:15.260674700Z",
     "start_time": "2024-03-03T19:23:00.329287400Z"
    }
   },
   "id": "a944ba4fdc0443f4",
   "execution_count": 69
  },
  {
   "cell_type": "code",
   "outputs": [],
   "source": [],
   "metadata": {
    "collapsed": false
   },
   "id": "b275df34c62386a5"
  }
 ],
 "metadata": {
  "kernelspec": {
   "display_name": "Python 3",
   "language": "python",
   "name": "python3"
  },
  "language_info": {
   "codemirror_mode": {
    "name": "ipython",
    "version": 2
   },
   "file_extension": ".py",
   "mimetype": "text/x-python",
   "name": "python",
   "nbconvert_exporter": "python",
   "pygments_lexer": "ipython2",
   "version": "2.7.6"
  }
 },
 "nbformat": 4,
 "nbformat_minor": 5
}
