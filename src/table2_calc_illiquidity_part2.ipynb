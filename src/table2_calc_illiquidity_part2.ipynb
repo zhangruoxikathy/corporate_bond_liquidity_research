{
 "cells": [
  {
   "cell_type": "markdown",
   "source": [
    "# Illiquidity Calculation - Trade-by-Trade\n",
    "\n",
    "  - This notebook walks through illiquidity calculations based on methodology in The Illiquidity of Corporate Bonds, Bao, Pan, and Wang (2010).\n",
    "\n",
    "  - In order to avoid re-running the notebook every time it changes (it changes often, even by the act of opening it) and to only rerun it if meaningful changes have been made, the build system only looks for changes in the plaintext version of the notebook. That is, the notebook is converted to a Python script via [nbconvert](https://nbconvert.readthedocs.io/en/latest/), which is often packaged with Jupyter.\n",
    "  Then, DoIt looks for changes to the Python version. If it detects a difference, then the notebook is re-run. (Note, that you could also convert to a Markdown file with \n",
    "  [JupyText](https://github.com/mwouts/jupytext). However, this package is often not packaged with Jupyter.)\n",
    "  - Since we want to use Jupyter Notebooks for exploratory reports, we want to keep fully-computed versions of the notebook (with the output intact). However, earlier I said that I strip the notebook of its output before committing to version control. Well, to keep the output, every time PyDoit runs the notebook, it outputs an HTML version of the freshly run notebook and saves that HTML report in the `output` directory. That way, you will be able to view the finished report at any time without having to open Jupyter."
   ],
   "metadata": {
    "collapsed": false
   },
   "id": "b745600806c81e3e"
  },
  {
   "cell_type": "code",
   "outputs": [],
   "source": [
    "import warnings\n",
    "warnings.filterwarnings(\"ignore\")\n",
    "\n",
    "import config\n",
    "\n",
    "OUTPUT_DIR = config.OUTPUT_DIR\n",
    "DATA_DIR = config.DATA_DIR"
   ],
   "metadata": {
    "collapsed": true,
    "ExecuteTime": {
     "end_time": "2024-03-04T21:17:11.854591500Z",
     "start_time": "2024-03-04T21:17:11.847088100Z"
    }
   },
   "id": "initial_id",
   "execution_count": 5
  },
  {
   "cell_type": "code",
   "outputs": [],
   "source": [
    "import table2_calc_illiquidity"
   ],
   "metadata": {
    "collapsed": false,
    "ExecuteTime": {
     "end_time": "2024-03-04T21:13:18.747349400Z",
     "start_time": "2024-03-04T21:13:16.942678900Z"
    }
   },
   "id": "b114d1ca12385b86",
   "execution_count": 2
  },
  {
   "cell_type": "markdown",
   "source": [
    "# Step 1: Clean Merged Data for Intraday Illiquidity Calculation\n",
    "\n",
    "Before calculating illiquidity measures, it's essential to ensure that our corporate bond data is accurate and relevant. The `clean_intraday` function takes care of preparing the intraday data by performing several critical cleaning steps:\n",
    "\n",
    "- Merges trade data and trade time to timestamp\n",
    "- Runs Dickerson filters to remove trades that the per-filtering steps missed\n"
   ],
   "metadata": {
    "collapsed": false
   },
   "id": "5f709a43cf3fb86"
  },
  {
   "cell_type": "code",
   "outputs": [
    {
     "data": {
      "text/plain": "             cusip bond_sym_id trd_exctn_dt trd_exctn_tm days_to_sttl_ct  \\\n4187316  001546AE0      AKS.GC   2003-04-14     12:05:33             000   \n4187317  001546AE0      AKS.GC   2003-04-14     13:00:16             000   \n4187318  001546AE0      AKS.GC   2003-04-14     13:00:44             000   \n4187319  001546AE0      AKS.GC   2003-04-14     13:07:28             000   \n4187320  001546AE0      AKS.GC   2003-04-14     13:07:52             000   \n\n        lckd_in_ind wis_fl sale_cndtn_cd msg_seq_nb trc_st  ... trd_rpt_tm  \\\n4187316        None      N             @    0010675      T  ...   12:05:47   \n4187317        None      N             @    0014878      T  ...   13:00:47   \n4187318        None      N             @    0014891      T  ...   13:01:07   \n4187319        None      N             @    0015340      T  ...   13:07:42   \n4187320        None      N             @    0015352      T  ...   13:07:57   \n\n        entrd_vol_qt  prclean    yld_pt  asof_cd orig_msg_seq_nb rpt_side_cd  \\\n4187316    5000000.0  94.3750  9.136800     None            None           B   \n4187317    1000000.0  93.6250  9.312567     None            None           B   \n4187318    1000000.0  93.9375  9.239120     None            None           S   \n4187319    2000000.0  93.5000  9.342031     None            None           B   \n4187320    1000000.0  94.0000  9.224466     None            None           S   \n\n        cntra_mp_id         trd_tmstamp month_year  \n4187316           C 2003-04-14 12:05:33    2003-04  \n4187317           C 2003-04-14 13:00:16    2003-04  \n4187318           C 2003-04-14 13:00:44    2003-04  \n4187319           C 2003-04-14 13:07:28    2003-04  \n4187320           C 2003-04-14 13:07:52    2003-04  \n\n[5 rows x 21 columns]",
      "text/html": "<div>\n<style scoped>\n    .dataframe tbody tr th:only-of-type {\n        vertical-align: middle;\n    }\n\n    .dataframe tbody tr th {\n        vertical-align: top;\n    }\n\n    .dataframe thead th {\n        text-align: right;\n    }\n</style>\n<table border=\"1\" class=\"dataframe\">\n  <thead>\n    <tr style=\"text-align: right;\">\n      <th></th>\n      <th>cusip</th>\n      <th>bond_sym_id</th>\n      <th>trd_exctn_dt</th>\n      <th>trd_exctn_tm</th>\n      <th>days_to_sttl_ct</th>\n      <th>lckd_in_ind</th>\n      <th>wis_fl</th>\n      <th>sale_cndtn_cd</th>\n      <th>msg_seq_nb</th>\n      <th>trc_st</th>\n      <th>...</th>\n      <th>trd_rpt_tm</th>\n      <th>entrd_vol_qt</th>\n      <th>prclean</th>\n      <th>yld_pt</th>\n      <th>asof_cd</th>\n      <th>orig_msg_seq_nb</th>\n      <th>rpt_side_cd</th>\n      <th>cntra_mp_id</th>\n      <th>trd_tmstamp</th>\n      <th>month_year</th>\n    </tr>\n  </thead>\n  <tbody>\n    <tr>\n      <th>4187316</th>\n      <td>001546AE0</td>\n      <td>AKS.GC</td>\n      <td>2003-04-14</td>\n      <td>12:05:33</td>\n      <td>000</td>\n      <td>None</td>\n      <td>N</td>\n      <td>@</td>\n      <td>0010675</td>\n      <td>T</td>\n      <td>...</td>\n      <td>12:05:47</td>\n      <td>5000000.0</td>\n      <td>94.3750</td>\n      <td>9.136800</td>\n      <td>None</td>\n      <td>None</td>\n      <td>B</td>\n      <td>C</td>\n      <td>2003-04-14 12:05:33</td>\n      <td>2003-04</td>\n    </tr>\n    <tr>\n      <th>4187317</th>\n      <td>001546AE0</td>\n      <td>AKS.GC</td>\n      <td>2003-04-14</td>\n      <td>13:00:16</td>\n      <td>000</td>\n      <td>None</td>\n      <td>N</td>\n      <td>@</td>\n      <td>0014878</td>\n      <td>T</td>\n      <td>...</td>\n      <td>13:00:47</td>\n      <td>1000000.0</td>\n      <td>93.6250</td>\n      <td>9.312567</td>\n      <td>None</td>\n      <td>None</td>\n      <td>B</td>\n      <td>C</td>\n      <td>2003-04-14 13:00:16</td>\n      <td>2003-04</td>\n    </tr>\n    <tr>\n      <th>4187318</th>\n      <td>001546AE0</td>\n      <td>AKS.GC</td>\n      <td>2003-04-14</td>\n      <td>13:00:44</td>\n      <td>000</td>\n      <td>None</td>\n      <td>N</td>\n      <td>@</td>\n      <td>0014891</td>\n      <td>T</td>\n      <td>...</td>\n      <td>13:01:07</td>\n      <td>1000000.0</td>\n      <td>93.9375</td>\n      <td>9.239120</td>\n      <td>None</td>\n      <td>None</td>\n      <td>S</td>\n      <td>C</td>\n      <td>2003-04-14 13:00:44</td>\n      <td>2003-04</td>\n    </tr>\n    <tr>\n      <th>4187319</th>\n      <td>001546AE0</td>\n      <td>AKS.GC</td>\n      <td>2003-04-14</td>\n      <td>13:07:28</td>\n      <td>000</td>\n      <td>None</td>\n      <td>N</td>\n      <td>@</td>\n      <td>0015340</td>\n      <td>T</td>\n      <td>...</td>\n      <td>13:07:42</td>\n      <td>2000000.0</td>\n      <td>93.5000</td>\n      <td>9.342031</td>\n      <td>None</td>\n      <td>None</td>\n      <td>B</td>\n      <td>C</td>\n      <td>2003-04-14 13:07:28</td>\n      <td>2003-04</td>\n    </tr>\n    <tr>\n      <th>4187320</th>\n      <td>001546AE0</td>\n      <td>AKS.GC</td>\n      <td>2003-04-14</td>\n      <td>13:07:52</td>\n      <td>000</td>\n      <td>None</td>\n      <td>N</td>\n      <td>@</td>\n      <td>0015352</td>\n      <td>T</td>\n      <td>...</td>\n      <td>13:07:57</td>\n      <td>1000000.0</td>\n      <td>94.0000</td>\n      <td>9.224466</td>\n      <td>None</td>\n      <td>None</td>\n      <td>S</td>\n      <td>C</td>\n      <td>2003-04-14 13:07:52</td>\n      <td>2003-04</td>\n    </tr>\n  </tbody>\n</table>\n<p>5 rows × 21 columns</p>\n</div>"
     },
     "execution_count": 3,
     "metadata": {},
     "output_type": "execute_result"
    }
   ],
   "source": [
    "df = table2_calc_illiquidity.clean_intraday('2003-04-14', '2009-06-30')\n",
    "df.head()"
   ],
   "metadata": {
    "collapsed": false,
    "ExecuteTime": {
     "end_time": "2024-03-04T21:15:01.575327700Z",
     "start_time": "2024-03-04T21:13:44.992592800Z"
    }
   },
   "id": "56516cf1ce2dfd3a",
   "execution_count": 3
  },
  {
   "cell_type": "markdown",
   "source": [
    "# Step 2: Calculate Price Changes and Perform Additional Cleaning\n",
    "\n",
    "In this part of the analysis pipeline, we use the `calc_deltaprc` function to compute intraday price changes for corporate bonds, designed to operate on cleaned trade-by-trade corporate bond trade data.\n",
    "\n",
    "This calculation is based on the Measure of Illiquidity on page 10 and 11 of the peper: $ \\gamma = -\\text{Cov}(p_t - p_{t-1}, p_{t+1} - p_t) $. The process involves several steps:\n",
    "- Calculation of Log Prices: Transform cleaned prices to log prices for more stable numerical properties.\n",
    "- Lagged and Lead Price Changes: Determine the price changes by computing lagged and lead log prices.\n",
    "- Restricting Returns: Ensure that calculated price changes (returns) are within the range of -100% to 100%.\n",
    "- Conversion to Percentage: Change the representation of price changes from decimal to percentage for clarity.\n",
    "- Cleaning Data: Remove entries with incomplete information to maintain the quality of the dataset.\n",
    "- Filtering by Trade Count: Exclude bonds with fewer than 10 trade observations to focus on more reliable data.\n",
    "\n",
    "This function is essential for preparing the bond price data for accurate calculation of financial metrics such as illiquidity."
   ],
   "metadata": {
    "collapsed": false
   },
   "id": "7290c771dfe75cdc"
  },
  {
   "cell_type": "code",
   "outputs": [
    {
     "data": {
      "text/plain": "             cusip bond_sym_id trd_exctn_dt trd_exctn_tm days_to_sttl_ct  \\\n4187317  001546AE0      AKS.GC   2003-04-14     13:00:16             000   \n4187318  001546AE0      AKS.GC   2003-04-14     13:00:44             000   \n4187319  001546AE0      AKS.GC   2003-04-14     13:07:28             000   \n4187320  001546AE0      AKS.GC   2003-04-14     13:07:52             000   \n4187321  001546AE0      AKS.GC   2003-04-14     13:10:53             000   \n\n        lckd_in_ind wis_fl sale_cndtn_cd msg_seq_nb trc_st  ...  \\\n4187317        None      N             @    0014878      T  ...   \n4187318        None      N             @    0014891      T  ...   \n4187319        None      N             @    0015340      T  ...   \n4187320        None      N             @    0015352      T  ...   \n4187321        None      N             @    0019051      T  ...   \n\n        orig_msg_seq_nb rpt_side_cd  cntra_mp_id         trd_tmstamp  \\\n4187317            None           B            C 2003-04-14 13:00:16   \n4187318            None           S            C 2003-04-14 13:00:44   \n4187319            None           B            C 2003-04-14 13:07:28   \n4187320            None           S            C 2003-04-14 13:07:52   \n4187321            None           B            D 2003-04-14 13:10:53   \n\n         month_year    logprc logprc_lag    deltap logprc_lead deltap_lag  \n4187317     2003-04  4.539297   4.547276 -0.797877    4.542630   0.333223  \n4187318     2003-04  4.542630   4.539297  0.333223    4.537961  -0.466823  \n4187319     2003-04  4.537961   4.542630 -0.466823    4.543295   0.533335  \n4187320     2003-04  4.543295   4.537961  0.533335    4.547276   0.398143  \n4187321     2003-04  4.547276   4.543295  0.398143    4.546614  -0.066247  \n\n[5 rows x 26 columns]",
      "text/html": "<div>\n<style scoped>\n    .dataframe tbody tr th:only-of-type {\n        vertical-align: middle;\n    }\n\n    .dataframe tbody tr th {\n        vertical-align: top;\n    }\n\n    .dataframe thead th {\n        text-align: right;\n    }\n</style>\n<table border=\"1\" class=\"dataframe\">\n  <thead>\n    <tr style=\"text-align: right;\">\n      <th></th>\n      <th>cusip</th>\n      <th>bond_sym_id</th>\n      <th>trd_exctn_dt</th>\n      <th>trd_exctn_tm</th>\n      <th>days_to_sttl_ct</th>\n      <th>lckd_in_ind</th>\n      <th>wis_fl</th>\n      <th>sale_cndtn_cd</th>\n      <th>msg_seq_nb</th>\n      <th>trc_st</th>\n      <th>...</th>\n      <th>orig_msg_seq_nb</th>\n      <th>rpt_side_cd</th>\n      <th>cntra_mp_id</th>\n      <th>trd_tmstamp</th>\n      <th>month_year</th>\n      <th>logprc</th>\n      <th>logprc_lag</th>\n      <th>deltap</th>\n      <th>logprc_lead</th>\n      <th>deltap_lag</th>\n    </tr>\n  </thead>\n  <tbody>\n    <tr>\n      <th>4187317</th>\n      <td>001546AE0</td>\n      <td>AKS.GC</td>\n      <td>2003-04-14</td>\n      <td>13:00:16</td>\n      <td>000</td>\n      <td>None</td>\n      <td>N</td>\n      <td>@</td>\n      <td>0014878</td>\n      <td>T</td>\n      <td>...</td>\n      <td>None</td>\n      <td>B</td>\n      <td>C</td>\n      <td>2003-04-14 13:00:16</td>\n      <td>2003-04</td>\n      <td>4.539297</td>\n      <td>4.547276</td>\n      <td>-0.797877</td>\n      <td>4.542630</td>\n      <td>0.333223</td>\n    </tr>\n    <tr>\n      <th>4187318</th>\n      <td>001546AE0</td>\n      <td>AKS.GC</td>\n      <td>2003-04-14</td>\n      <td>13:00:44</td>\n      <td>000</td>\n      <td>None</td>\n      <td>N</td>\n      <td>@</td>\n      <td>0014891</td>\n      <td>T</td>\n      <td>...</td>\n      <td>None</td>\n      <td>S</td>\n      <td>C</td>\n      <td>2003-04-14 13:00:44</td>\n      <td>2003-04</td>\n      <td>4.542630</td>\n      <td>4.539297</td>\n      <td>0.333223</td>\n      <td>4.537961</td>\n      <td>-0.466823</td>\n    </tr>\n    <tr>\n      <th>4187319</th>\n      <td>001546AE0</td>\n      <td>AKS.GC</td>\n      <td>2003-04-14</td>\n      <td>13:07:28</td>\n      <td>000</td>\n      <td>None</td>\n      <td>N</td>\n      <td>@</td>\n      <td>0015340</td>\n      <td>T</td>\n      <td>...</td>\n      <td>None</td>\n      <td>B</td>\n      <td>C</td>\n      <td>2003-04-14 13:07:28</td>\n      <td>2003-04</td>\n      <td>4.537961</td>\n      <td>4.542630</td>\n      <td>-0.466823</td>\n      <td>4.543295</td>\n      <td>0.533335</td>\n    </tr>\n    <tr>\n      <th>4187320</th>\n      <td>001546AE0</td>\n      <td>AKS.GC</td>\n      <td>2003-04-14</td>\n      <td>13:07:52</td>\n      <td>000</td>\n      <td>None</td>\n      <td>N</td>\n      <td>@</td>\n      <td>0015352</td>\n      <td>T</td>\n      <td>...</td>\n      <td>None</td>\n      <td>S</td>\n      <td>C</td>\n      <td>2003-04-14 13:07:52</td>\n      <td>2003-04</td>\n      <td>4.543295</td>\n      <td>4.537961</td>\n      <td>0.533335</td>\n      <td>4.547276</td>\n      <td>0.398143</td>\n    </tr>\n    <tr>\n      <th>4187321</th>\n      <td>001546AE0</td>\n      <td>AKS.GC</td>\n      <td>2003-04-14</td>\n      <td>13:10:53</td>\n      <td>000</td>\n      <td>None</td>\n      <td>N</td>\n      <td>@</td>\n      <td>0019051</td>\n      <td>T</td>\n      <td>...</td>\n      <td>None</td>\n      <td>B</td>\n      <td>D</td>\n      <td>2003-04-14 13:10:53</td>\n      <td>2003-04</td>\n      <td>4.547276</td>\n      <td>4.543295</td>\n      <td>0.398143</td>\n      <td>4.546614</td>\n      <td>-0.066247</td>\n    </tr>\n  </tbody>\n</table>\n<p>5 rows × 26 columns</p>\n</div>"
     },
     "execution_count": 4,
     "metadata": {},
     "output_type": "execute_result"
    }
   ],
   "source": [
    "df = table2_calc_illiquidity.calc_deltaprc(df)\n",
    "df.head()"
   ],
   "metadata": {
    "collapsed": false,
    "ExecuteTime": {
     "end_time": "2024-03-04T21:15:32.428391Z",
     "start_time": "2024-03-04T21:15:29.297432500Z"
    }
   },
   "id": "959313dad9428438",
   "execution_count": 4
  },
  {
   "cell_type": "markdown",
   "source": [
    "# Step 3: Annual Illiquidity Metrics Calculation\n",
    "\n",
    "This step involves using the `calc_annual_illiquidity_table` function to calculate and summarize annual illiquidity metrics for corporate bonds. The function takes intraday bond data as input and computes several statistics that capture the illiquidity of bonds on an annual basis.\n",
    "\n",
    "- Computes the illiquidity for each bond and month by taking the negative of the covariance between intraday price changes (`deltap`) and their lagged values (`deltap_lag`).\n",
    "\n",
    "- Aggregated the monthly illiquidity measures to obtain annual statistics, including mean and median illiquidity.\n",
    "\n",
    "- Calculates t-statistics for the mean illiquidity of each bond and year and determines the percentage of these t-stats that are significant (>= 1.96).\n",
    "\n",
    "- Calculates robust t-stats are calculated using OLS with HAC (heteroskedasticity and autocorrelation consistent) standard errors.\n",
    "\n",
    "- Calculate overall statistics across the full sample period.\n",
    "\n",
    "- Compiles all these metrics into a table that presents the mean and median illiquidity, the percentage of significant t-statistics, and robust t-statistics for each year, as well as for the full sample period.\n",
    "\n",
    "This comprehensive illiquidity metric calculation allows us to understand the annual and overall liquidity characteristics of the corporate bond market."
   ],
   "metadata": {
    "collapsed": false
   },
   "id": "c93c10bb994363ea"
  },
  {
   "cell_type": "code",
   "outputs": [
    {
     "name": "stderr",
     "output_type": "stream",
     "text": [
      "100%|██████████| 53709/53709 [00:08<00:00, 6370.24it/s]\n"
     ]
    },
    {
     "data": {
      "text/plain": "   Year  Mean illiq  Median illiq  Per t greater 1.96  Robust t stat\n0  2003    1.422394      0.380685           89.684691       3.558605\n1  2004    1.194314      0.243591           90.285823       1.449784\n2  2005    0.599488      0.160945           94.103478       4.780106\n3  2006    0.391183      0.131678           93.585237       2.440706\n4  2007    0.454248      0.121441           91.878643       2.929758\n5  2008    2.081238      0.256727           82.683504      11.701014\n6  2009    2.342096      0.363547           89.483195      13.444286\n7  Full    1.030223      0.203726           90.968489       2.215580",
      "text/html": "<div>\n<style scoped>\n    .dataframe tbody tr th:only-of-type {\n        vertical-align: middle;\n    }\n\n    .dataframe tbody tr th {\n        vertical-align: top;\n    }\n\n    .dataframe thead th {\n        text-align: right;\n    }\n</style>\n<table border=\"1\" class=\"dataframe\">\n  <thead>\n    <tr style=\"text-align: right;\">\n      <th></th>\n      <th>Year</th>\n      <th>Mean illiq</th>\n      <th>Median illiq</th>\n      <th>Per t greater 1.96</th>\n      <th>Robust t stat</th>\n    </tr>\n  </thead>\n  <tbody>\n    <tr>\n      <th>0</th>\n      <td>2003</td>\n      <td>1.422394</td>\n      <td>0.380685</td>\n      <td>89.684691</td>\n      <td>3.558605</td>\n    </tr>\n    <tr>\n      <th>1</th>\n      <td>2004</td>\n      <td>1.194314</td>\n      <td>0.243591</td>\n      <td>90.285823</td>\n      <td>1.449784</td>\n    </tr>\n    <tr>\n      <th>2</th>\n      <td>2005</td>\n      <td>0.599488</td>\n      <td>0.160945</td>\n      <td>94.103478</td>\n      <td>4.780106</td>\n    </tr>\n    <tr>\n      <th>3</th>\n      <td>2006</td>\n      <td>0.391183</td>\n      <td>0.131678</td>\n      <td>93.585237</td>\n      <td>2.440706</td>\n    </tr>\n    <tr>\n      <th>4</th>\n      <td>2007</td>\n      <td>0.454248</td>\n      <td>0.121441</td>\n      <td>91.878643</td>\n      <td>2.929758</td>\n    </tr>\n    <tr>\n      <th>5</th>\n      <td>2008</td>\n      <td>2.081238</td>\n      <td>0.256727</td>\n      <td>82.683504</td>\n      <td>11.701014</td>\n    </tr>\n    <tr>\n      <th>6</th>\n      <td>2009</td>\n      <td>2.342096</td>\n      <td>0.363547</td>\n      <td>89.483195</td>\n      <td>13.444286</td>\n    </tr>\n    <tr>\n      <th>7</th>\n      <td>Full</td>\n      <td>1.030223</td>\n      <td>0.203726</td>\n      <td>90.968489</td>\n      <td>2.215580</td>\n    </tr>\n  </tbody>\n</table>\n</div>"
     },
     "execution_count": 7,
     "metadata": {},
     "output_type": "execute_result"
    }
   ],
   "source": [
    "_, table2_intraday = table2_calc_illiquidity.calc_annual_illiquidity_table(df)\n",
    "table2_intraday"
   ],
   "metadata": {
    "collapsed": false,
    "ExecuteTime": {
     "end_time": "2024-03-04T21:18:41.760320300Z",
     "start_time": "2024-03-04T21:18:31.377016600Z"
    }
   },
   "id": "a944ba4fdc0443f4",
   "execution_count": 7
  }
 ],
 "metadata": {
  "kernelspec": {
   "display_name": "Python 3",
   "language": "python",
   "name": "python3"
  },
  "language_info": {
   "codemirror_mode": {
    "name": "ipython",
    "version": 2
   },
   "file_extension": ".py",
   "mimetype": "text/x-python",
   "name": "python",
   "nbconvert_exporter": "python",
   "pygments_lexer": "ipython2",
   "version": "2.7.6"
  }
 },
 "nbformat": 4,
 "nbformat_minor": 5
}
